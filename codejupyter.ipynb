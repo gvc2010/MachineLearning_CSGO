{
  "nbformat": 4,
  "nbformat_minor": 0,
  "metadata": {
    "colab": {
      "provenance": []
    },
    "kernelspec": {
      "name": "python3",
      "display_name": "Python 3"
    },
    "language_info": {
      "name": "python"
    },
    "widgets": {
      "application/vnd.jupyter.widget-state+json": {
        "8609c234b76e4e15accf6c2d342bfd2b": {
          "model_module": "@jupyter-widgets/controls",
          "model_name": "HBoxModel",
          "model_module_version": "1.5.0",
          "state": {
            "_dom_classes": [],
            "_model_module": "@jupyter-widgets/controls",
            "_model_module_version": "1.5.0",
            "_model_name": "HBoxModel",
            "_view_count": null,
            "_view_module": "@jupyter-widgets/controls",
            "_view_module_version": "1.5.0",
            "_view_name": "HBoxView",
            "box_style": "",
            "children": [
              "IPY_MODEL_88036aae7ec44be7ac48d4fafa23e71e",
              "IPY_MODEL_f74f5dc555c04a26ab6e23271e1e20bf",
              "IPY_MODEL_ddbc070843424b699113e5c7fd63663f"
            ],
            "layout": "IPY_MODEL_27935b8f59c44bc6b4e799bdc5a7a739"
          }
        },
        "88036aae7ec44be7ac48d4fafa23e71e": {
          "model_module": "@jupyter-widgets/controls",
          "model_name": "HTMLModel",
          "model_module_version": "1.5.0",
          "state": {
            "_dom_classes": [],
            "_model_module": "@jupyter-widgets/controls",
            "_model_module_version": "1.5.0",
            "_model_name": "HTMLModel",
            "_view_count": null,
            "_view_module": "@jupyter-widgets/controls",
            "_view_module_version": "1.5.0",
            "_view_name": "HTMLView",
            "description": "",
            "description_tooltip": null,
            "layout": "IPY_MODEL_eb12fe72fd5e46cdac94da25cbd31c29",
            "placeholder": "​",
            "style": "IPY_MODEL_97832a31f28d4a2cba5236743a4dfec0",
            "value": "Processing: 100%"
          }
        },
        "f74f5dc555c04a26ab6e23271e1e20bf": {
          "model_module": "@jupyter-widgets/controls",
          "model_name": "FloatProgressModel",
          "model_module_version": "1.5.0",
          "state": {
            "_dom_classes": [],
            "_model_module": "@jupyter-widgets/controls",
            "_model_module_version": "1.5.0",
            "_model_name": "FloatProgressModel",
            "_view_count": null,
            "_view_module": "@jupyter-widgets/controls",
            "_view_module_version": "1.5.0",
            "_view_name": "ProgressView",
            "bar_style": "",
            "description": "",
            "description_tooltip": null,
            "layout": "IPY_MODEL_ab2e5d3eff954992beffb2caca8b7dfc",
            "max": 65,
            "min": 0,
            "orientation": "horizontal",
            "style": "IPY_MODEL_343479ae1b9f411b83183d8fde60cbdd",
            "value": 65
          }
        },
        "ddbc070843424b699113e5c7fd63663f": {
          "model_module": "@jupyter-widgets/controls",
          "model_name": "HTMLModel",
          "model_module_version": "1.5.0",
          "state": {
            "_dom_classes": [],
            "_model_module": "@jupyter-widgets/controls",
            "_model_module_version": "1.5.0",
            "_model_name": "HTMLModel",
            "_view_count": null,
            "_view_module": "@jupyter-widgets/controls",
            "_view_module_version": "1.5.0",
            "_view_name": "HTMLView",
            "description": "",
            "description_tooltip": null,
            "layout": "IPY_MODEL_40e0ab5b77f3407f8fef293d520a53b2",
            "placeholder": "​",
            "style": "IPY_MODEL_2b85345e9d884d678c33afa0a2183d00",
            "value": " 65/65 [15:44&lt;00:00,  6.48s/it]"
          }
        },
        "27935b8f59c44bc6b4e799bdc5a7a739": {
          "model_module": "@jupyter-widgets/base",
          "model_name": "LayoutModel",
          "model_module_version": "1.2.0",
          "state": {
            "_model_module": "@jupyter-widgets/base",
            "_model_module_version": "1.2.0",
            "_model_name": "LayoutModel",
            "_view_count": null,
            "_view_module": "@jupyter-widgets/base",
            "_view_module_version": "1.2.0",
            "_view_name": "LayoutView",
            "align_content": null,
            "align_items": null,
            "align_self": null,
            "border": null,
            "bottom": null,
            "display": null,
            "flex": null,
            "flex_flow": null,
            "grid_area": null,
            "grid_auto_columns": null,
            "grid_auto_flow": null,
            "grid_auto_rows": null,
            "grid_column": null,
            "grid_gap": null,
            "grid_row": null,
            "grid_template_areas": null,
            "grid_template_columns": null,
            "grid_template_rows": null,
            "height": null,
            "justify_content": null,
            "justify_items": null,
            "left": null,
            "margin": null,
            "max_height": null,
            "max_width": null,
            "min_height": null,
            "min_width": null,
            "object_fit": null,
            "object_position": null,
            "order": null,
            "overflow": null,
            "overflow_x": null,
            "overflow_y": null,
            "padding": null,
            "right": null,
            "top": null,
            "visibility": "hidden",
            "width": null
          }
        },
        "eb12fe72fd5e46cdac94da25cbd31c29": {
          "model_module": "@jupyter-widgets/base",
          "model_name": "LayoutModel",
          "model_module_version": "1.2.0",
          "state": {
            "_model_module": "@jupyter-widgets/base",
            "_model_module_version": "1.2.0",
            "_model_name": "LayoutModel",
            "_view_count": null,
            "_view_module": "@jupyter-widgets/base",
            "_view_module_version": "1.2.0",
            "_view_name": "LayoutView",
            "align_content": null,
            "align_items": null,
            "align_self": null,
            "border": null,
            "bottom": null,
            "display": null,
            "flex": null,
            "flex_flow": null,
            "grid_area": null,
            "grid_auto_columns": null,
            "grid_auto_flow": null,
            "grid_auto_rows": null,
            "grid_column": null,
            "grid_gap": null,
            "grid_row": null,
            "grid_template_areas": null,
            "grid_template_columns": null,
            "grid_template_rows": null,
            "height": null,
            "justify_content": null,
            "justify_items": null,
            "left": null,
            "margin": null,
            "max_height": null,
            "max_width": null,
            "min_height": null,
            "min_width": null,
            "object_fit": null,
            "object_position": null,
            "order": null,
            "overflow": null,
            "overflow_x": null,
            "overflow_y": null,
            "padding": null,
            "right": null,
            "top": null,
            "visibility": null,
            "width": null
          }
        },
        "97832a31f28d4a2cba5236743a4dfec0": {
          "model_module": "@jupyter-widgets/controls",
          "model_name": "DescriptionStyleModel",
          "model_module_version": "1.5.0",
          "state": {
            "_model_module": "@jupyter-widgets/controls",
            "_model_module_version": "1.5.0",
            "_model_name": "DescriptionStyleModel",
            "_view_count": null,
            "_view_module": "@jupyter-widgets/base",
            "_view_module_version": "1.2.0",
            "_view_name": "StyleView",
            "description_width": ""
          }
        },
        "ab2e5d3eff954992beffb2caca8b7dfc": {
          "model_module": "@jupyter-widgets/base",
          "model_name": "LayoutModel",
          "model_module_version": "1.2.0",
          "state": {
            "_model_module": "@jupyter-widgets/base",
            "_model_module_version": "1.2.0",
            "_model_name": "LayoutModel",
            "_view_count": null,
            "_view_module": "@jupyter-widgets/base",
            "_view_module_version": "1.2.0",
            "_view_name": "LayoutView",
            "align_content": null,
            "align_items": null,
            "align_self": null,
            "border": null,
            "bottom": null,
            "display": null,
            "flex": null,
            "flex_flow": null,
            "grid_area": null,
            "grid_auto_columns": null,
            "grid_auto_flow": null,
            "grid_auto_rows": null,
            "grid_column": null,
            "grid_gap": null,
            "grid_row": null,
            "grid_template_areas": null,
            "grid_template_columns": null,
            "grid_template_rows": null,
            "height": null,
            "justify_content": null,
            "justify_items": null,
            "left": null,
            "margin": null,
            "max_height": null,
            "max_width": null,
            "min_height": null,
            "min_width": null,
            "object_fit": null,
            "object_position": null,
            "order": null,
            "overflow": null,
            "overflow_x": null,
            "overflow_y": null,
            "padding": null,
            "right": null,
            "top": null,
            "visibility": null,
            "width": null
          }
        },
        "343479ae1b9f411b83183d8fde60cbdd": {
          "model_module": "@jupyter-widgets/controls",
          "model_name": "ProgressStyleModel",
          "model_module_version": "1.5.0",
          "state": {
            "_model_module": "@jupyter-widgets/controls",
            "_model_module_version": "1.5.0",
            "_model_name": "ProgressStyleModel",
            "_view_count": null,
            "_view_module": "@jupyter-widgets/base",
            "_view_module_version": "1.2.0",
            "_view_name": "StyleView",
            "bar_color": null,
            "description_width": ""
          }
        },
        "40e0ab5b77f3407f8fef293d520a53b2": {
          "model_module": "@jupyter-widgets/base",
          "model_name": "LayoutModel",
          "model_module_version": "1.2.0",
          "state": {
            "_model_module": "@jupyter-widgets/base",
            "_model_module_version": "1.2.0",
            "_model_name": "LayoutModel",
            "_view_count": null,
            "_view_module": "@jupyter-widgets/base",
            "_view_module_version": "1.2.0",
            "_view_name": "LayoutView",
            "align_content": null,
            "align_items": null,
            "align_self": null,
            "border": null,
            "bottom": null,
            "display": null,
            "flex": null,
            "flex_flow": null,
            "grid_area": null,
            "grid_auto_columns": null,
            "grid_auto_flow": null,
            "grid_auto_rows": null,
            "grid_column": null,
            "grid_gap": null,
            "grid_row": null,
            "grid_template_areas": null,
            "grid_template_columns": null,
            "grid_template_rows": null,
            "height": null,
            "justify_content": null,
            "justify_items": null,
            "left": null,
            "margin": null,
            "max_height": null,
            "max_width": null,
            "min_height": null,
            "min_width": null,
            "object_fit": null,
            "object_position": null,
            "order": null,
            "overflow": null,
            "overflow_x": null,
            "overflow_y": null,
            "padding": null,
            "right": null,
            "top": null,
            "visibility": null,
            "width": null
          }
        },
        "2b85345e9d884d678c33afa0a2183d00": {
          "model_module": "@jupyter-widgets/controls",
          "model_name": "DescriptionStyleModel",
          "model_module_version": "1.5.0",
          "state": {
            "_model_module": "@jupyter-widgets/controls",
            "_model_module_version": "1.5.0",
            "_model_name": "DescriptionStyleModel",
            "_view_count": null,
            "_view_module": "@jupyter-widgets/base",
            "_view_module_version": "1.2.0",
            "_view_name": "StyleView",
            "description_width": ""
          }
        },
        "a25abaa112264beba95018a101255913": {
          "model_module": "@jupyter-widgets/controls",
          "model_name": "VBoxModel",
          "model_module_version": "1.5.0",
          "state": {
            "_dom_classes": [
              "widget-interact"
            ],
            "_model_module": "@jupyter-widgets/controls",
            "_model_module_version": "1.5.0",
            "_model_name": "VBoxModel",
            "_view_count": null,
            "_view_module": "@jupyter-widgets/controls",
            "_view_module_version": "1.5.0",
            "_view_name": "VBoxView",
            "box_style": "",
            "children": [
              "IPY_MODEL_021563ef2754427491797477afb9ffe9",
              "IPY_MODEL_aca7135c79a3461ab6c2ebcdfcd541ad"
            ],
            "layout": "IPY_MODEL_2e279a6b107d498f8b5c17f54a92892a"
          }
        },
        "021563ef2754427491797477afb9ffe9": {
          "model_module": "@jupyter-widgets/controls",
          "model_name": "ToggleButtonsModel",
          "model_module_version": "1.5.0",
          "state": {
            "_dom_classes": [],
            "_model_module": "@jupyter-widgets/controls",
            "_model_module_version": "1.5.0",
            "_model_name": "ToggleButtonsModel",
            "_options_labels": [
              "Pipeline Plot",
              "Hyperparameters",
              "AUC",
              "Confusion Matrix",
              "Threshold",
              "Precision Recall",
              "Prediction Error",
              "Class Report",
              "Feature Selection",
              "Learning Curve",
              "Manifold Learning",
              "Calibration Curve",
              "Validation Curve",
              "Dimensions",
              "Feature Importance",
              "Feature Importance (All)",
              "Decision Boundary",
              "Lift Chart",
              "Gain Chart",
              "Decision Tree",
              "KS Statistic Plot"
            ],
            "_view_count": null,
            "_view_module": "@jupyter-widgets/controls",
            "_view_module_version": "1.5.0",
            "_view_name": "ToggleButtonsView",
            "button_style": "",
            "description": "Plot Type:",
            "description_tooltip": null,
            "disabled": false,
            "icons": [
              ""
            ],
            "index": 0,
            "layout": "IPY_MODEL_b5d72b260ba443fb8e8e966cda923b06",
            "style": "IPY_MODEL_bd731bb6b12c4372a8b5228a7ef0e92e",
            "tooltips": []
          }
        },
        "aca7135c79a3461ab6c2ebcdfcd541ad": {
          "model_module": "@jupyter-widgets/output",
          "model_name": "OutputModel",
          "model_module_version": "1.0.0",
          "state": {
            "_dom_classes": [],
            "_model_module": "@jupyter-widgets/output",
            "_model_module_version": "1.0.0",
            "_model_name": "OutputModel",
            "_view_count": null,
            "_view_module": "@jupyter-widgets/output",
            "_view_module_version": "1.0.0",
            "_view_name": "OutputView",
            "layout": "IPY_MODEL_0a90fe9d9a404a4ca894653859c84112",
            "msg_id": "",
            "outputs": [
              {
                "output_type": "display_data",
                "data": {
                  "text/plain": "<Figure size 1700x600 with 1 Axes>",
                  "image/png": "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\n"
                },
                "metadata": {}
              }
            ]
          }
        },
        "2e279a6b107d498f8b5c17f54a92892a": {
          "model_module": "@jupyter-widgets/base",
          "model_name": "LayoutModel",
          "model_module_version": "1.2.0",
          "state": {
            "_model_module": "@jupyter-widgets/base",
            "_model_module_version": "1.2.0",
            "_model_name": "LayoutModel",
            "_view_count": null,
            "_view_module": "@jupyter-widgets/base",
            "_view_module_version": "1.2.0",
            "_view_name": "LayoutView",
            "align_content": null,
            "align_items": null,
            "align_self": null,
            "border": null,
            "bottom": null,
            "display": null,
            "flex": null,
            "flex_flow": null,
            "grid_area": null,
            "grid_auto_columns": null,
            "grid_auto_flow": null,
            "grid_auto_rows": null,
            "grid_column": null,
            "grid_gap": null,
            "grid_row": null,
            "grid_template_areas": null,
            "grid_template_columns": null,
            "grid_template_rows": null,
            "height": null,
            "justify_content": null,
            "justify_items": null,
            "left": null,
            "margin": null,
            "max_height": null,
            "max_width": null,
            "min_height": null,
            "min_width": null,
            "object_fit": null,
            "object_position": null,
            "order": null,
            "overflow": null,
            "overflow_x": null,
            "overflow_y": null,
            "padding": null,
            "right": null,
            "top": null,
            "visibility": null,
            "width": null
          }
        },
        "b5d72b260ba443fb8e8e966cda923b06": {
          "model_module": "@jupyter-widgets/base",
          "model_name": "LayoutModel",
          "model_module_version": "1.2.0",
          "state": {
            "_model_module": "@jupyter-widgets/base",
            "_model_module_version": "1.2.0",
            "_model_name": "LayoutModel",
            "_view_count": null,
            "_view_module": "@jupyter-widgets/base",
            "_view_module_version": "1.2.0",
            "_view_name": "LayoutView",
            "align_content": null,
            "align_items": null,
            "align_self": null,
            "border": null,
            "bottom": null,
            "display": null,
            "flex": null,
            "flex_flow": null,
            "grid_area": null,
            "grid_auto_columns": null,
            "grid_auto_flow": null,
            "grid_auto_rows": null,
            "grid_column": null,
            "grid_gap": null,
            "grid_row": null,
            "grid_template_areas": null,
            "grid_template_columns": null,
            "grid_template_rows": null,
            "height": null,
            "justify_content": null,
            "justify_items": null,
            "left": null,
            "margin": null,
            "max_height": null,
            "max_width": null,
            "min_height": null,
            "min_width": null,
            "object_fit": null,
            "object_position": null,
            "order": null,
            "overflow": null,
            "overflow_x": null,
            "overflow_y": null,
            "padding": null,
            "right": null,
            "top": null,
            "visibility": null,
            "width": null
          }
        },
        "bd731bb6b12c4372a8b5228a7ef0e92e": {
          "model_module": "@jupyter-widgets/controls",
          "model_name": "ToggleButtonsStyleModel",
          "model_module_version": "1.5.0",
          "state": {
            "_model_module": "@jupyter-widgets/controls",
            "_model_module_version": "1.5.0",
            "_model_name": "ToggleButtonsStyleModel",
            "_view_count": null,
            "_view_module": "@jupyter-widgets/base",
            "_view_module_version": "1.2.0",
            "_view_name": "StyleView",
            "button_width": "",
            "description_width": "",
            "font_weight": ""
          }
        },
        "0a90fe9d9a404a4ca894653859c84112": {
          "model_module": "@jupyter-widgets/base",
          "model_name": "LayoutModel",
          "model_module_version": "1.2.0",
          "state": {
            "_model_module": "@jupyter-widgets/base",
            "_model_module_version": "1.2.0",
            "_model_name": "LayoutModel",
            "_view_count": null,
            "_view_module": "@jupyter-widgets/base",
            "_view_module_version": "1.2.0",
            "_view_name": "LayoutView",
            "align_content": null,
            "align_items": null,
            "align_self": null,
            "border": null,
            "bottom": null,
            "display": null,
            "flex": null,
            "flex_flow": null,
            "grid_area": null,
            "grid_auto_columns": null,
            "grid_auto_flow": null,
            "grid_auto_rows": null,
            "grid_column": null,
            "grid_gap": null,
            "grid_row": null,
            "grid_template_areas": null,
            "grid_template_columns": null,
            "grid_template_rows": null,
            "height": null,
            "justify_content": null,
            "justify_items": null,
            "left": null,
            "margin": null,
            "max_height": null,
            "max_width": null,
            "min_height": null,
            "min_width": null,
            "object_fit": null,
            "object_position": null,
            "order": null,
            "overflow": null,
            "overflow_x": null,
            "overflow_y": null,
            "padding": null,
            "right": null,
            "top": null,
            "visibility": null,
            "width": null
          }
        },
        "f7f608e4b9224c219a2e216080f66f5b": {
          "model_module": "@jupyter-widgets/controls",
          "model_name": "HBoxModel",
          "model_module_version": "1.5.0",
          "state": {
            "_dom_classes": [],
            "_model_module": "@jupyter-widgets/controls",
            "_model_module_version": "1.5.0",
            "_model_name": "HBoxModel",
            "_view_count": null,
            "_view_module": "@jupyter-widgets/controls",
            "_view_module_version": "1.5.0",
            "_view_name": "HBoxView",
            "box_style": "",
            "children": [
              "IPY_MODEL_e3d87c527a044625a945e96d8f79c959",
              "IPY_MODEL_7c9f93fd375845829b7db9a4fec52e72",
              "IPY_MODEL_7ca3d98928ed43de8389a89fa95979fe"
            ],
            "layout": "IPY_MODEL_2349cb703b0b44aeaba8ce81469cb529"
          }
        },
        "e3d87c527a044625a945e96d8f79c959": {
          "model_module": "@jupyter-widgets/controls",
          "model_name": "HTMLModel",
          "model_module_version": "1.5.0",
          "state": {
            "_dom_classes": [],
            "_model_module": "@jupyter-widgets/controls",
            "_model_module_version": "1.5.0",
            "_model_name": "HTMLModel",
            "_view_count": null,
            "_view_module": "@jupyter-widgets/controls",
            "_view_module_version": "1.5.0",
            "_view_name": "HTMLView",
            "description": "",
            "description_tooltip": null,
            "layout": "IPY_MODEL_b4f0f5aa77124c05b9c8de718f673e1f",
            "placeholder": "​",
            "style": "IPY_MODEL_c58eb484cd324d919cf8aa8972ec7a40",
            "value": "Processing: 100%"
          }
        },
        "7c9f93fd375845829b7db9a4fec52e72": {
          "model_module": "@jupyter-widgets/controls",
          "model_name": "FloatProgressModel",
          "model_module_version": "1.5.0",
          "state": {
            "_dom_classes": [],
            "_model_module": "@jupyter-widgets/controls",
            "_model_module_version": "1.5.0",
            "_model_name": "FloatProgressModel",
            "_view_count": null,
            "_view_module": "@jupyter-widgets/controls",
            "_view_module_version": "1.5.0",
            "_view_name": "ProgressView",
            "bar_style": "",
            "description": "",
            "description_tooltip": null,
            "layout": "IPY_MODEL_b64bfa5504914c04893247429afb5274",
            "max": 65,
            "min": 0,
            "orientation": "horizontal",
            "style": "IPY_MODEL_f4c84f6bd5064f9caaad2fb8178ad878",
            "value": 65
          }
        },
        "7ca3d98928ed43de8389a89fa95979fe": {
          "model_module": "@jupyter-widgets/controls",
          "model_name": "HTMLModel",
          "model_module_version": "1.5.0",
          "state": {
            "_dom_classes": [],
            "_model_module": "@jupyter-widgets/controls",
            "_model_module_version": "1.5.0",
            "_model_name": "HTMLModel",
            "_view_count": null,
            "_view_module": "@jupyter-widgets/controls",
            "_view_module_version": "1.5.0",
            "_view_name": "HTMLView",
            "description": "",
            "description_tooltip": null,
            "layout": "IPY_MODEL_706540dda34e4ab785a65fc426b8953e",
            "placeholder": "​",
            "style": "IPY_MODEL_96fad154cb2446a9b667c44b375226d9",
            "value": " 65/65 [17:55&lt;00:00,  7.66s/it]"
          }
        },
        "2349cb703b0b44aeaba8ce81469cb529": {
          "model_module": "@jupyter-widgets/base",
          "model_name": "LayoutModel",
          "model_module_version": "1.2.0",
          "state": {
            "_model_module": "@jupyter-widgets/base",
            "_model_module_version": "1.2.0",
            "_model_name": "LayoutModel",
            "_view_count": null,
            "_view_module": "@jupyter-widgets/base",
            "_view_module_version": "1.2.0",
            "_view_name": "LayoutView",
            "align_content": null,
            "align_items": null,
            "align_self": null,
            "border": null,
            "bottom": null,
            "display": null,
            "flex": null,
            "flex_flow": null,
            "grid_area": null,
            "grid_auto_columns": null,
            "grid_auto_flow": null,
            "grid_auto_rows": null,
            "grid_column": null,
            "grid_gap": null,
            "grid_row": null,
            "grid_template_areas": null,
            "grid_template_columns": null,
            "grid_template_rows": null,
            "height": null,
            "justify_content": null,
            "justify_items": null,
            "left": null,
            "margin": null,
            "max_height": null,
            "max_width": null,
            "min_height": null,
            "min_width": null,
            "object_fit": null,
            "object_position": null,
            "order": null,
            "overflow": null,
            "overflow_x": null,
            "overflow_y": null,
            "padding": null,
            "right": null,
            "top": null,
            "visibility": "hidden",
            "width": null
          }
        },
        "b4f0f5aa77124c05b9c8de718f673e1f": {
          "model_module": "@jupyter-widgets/base",
          "model_name": "LayoutModel",
          "model_module_version": "1.2.0",
          "state": {
            "_model_module": "@jupyter-widgets/base",
            "_model_module_version": "1.2.0",
            "_model_name": "LayoutModel",
            "_view_count": null,
            "_view_module": "@jupyter-widgets/base",
            "_view_module_version": "1.2.0",
            "_view_name": "LayoutView",
            "align_content": null,
            "align_items": null,
            "align_self": null,
            "border": null,
            "bottom": null,
            "display": null,
            "flex": null,
            "flex_flow": null,
            "grid_area": null,
            "grid_auto_columns": null,
            "grid_auto_flow": null,
            "grid_auto_rows": null,
            "grid_column": null,
            "grid_gap": null,
            "grid_row": null,
            "grid_template_areas": null,
            "grid_template_columns": null,
            "grid_template_rows": null,
            "height": null,
            "justify_content": null,
            "justify_items": null,
            "left": null,
            "margin": null,
            "max_height": null,
            "max_width": null,
            "min_height": null,
            "min_width": null,
            "object_fit": null,
            "object_position": null,
            "order": null,
            "overflow": null,
            "overflow_x": null,
            "overflow_y": null,
            "padding": null,
            "right": null,
            "top": null,
            "visibility": null,
            "width": null
          }
        },
        "c58eb484cd324d919cf8aa8972ec7a40": {
          "model_module": "@jupyter-widgets/controls",
          "model_name": "DescriptionStyleModel",
          "model_module_version": "1.5.0",
          "state": {
            "_model_module": "@jupyter-widgets/controls",
            "_model_module_version": "1.5.0",
            "_model_name": "DescriptionStyleModel",
            "_view_count": null,
            "_view_module": "@jupyter-widgets/base",
            "_view_module_version": "1.2.0",
            "_view_name": "StyleView",
            "description_width": ""
          }
        },
        "b64bfa5504914c04893247429afb5274": {
          "model_module": "@jupyter-widgets/base",
          "model_name": "LayoutModel",
          "model_module_version": "1.2.0",
          "state": {
            "_model_module": "@jupyter-widgets/base",
            "_model_module_version": "1.2.0",
            "_model_name": "LayoutModel",
            "_view_count": null,
            "_view_module": "@jupyter-widgets/base",
            "_view_module_version": "1.2.0",
            "_view_name": "LayoutView",
            "align_content": null,
            "align_items": null,
            "align_self": null,
            "border": null,
            "bottom": null,
            "display": null,
            "flex": null,
            "flex_flow": null,
            "grid_area": null,
            "grid_auto_columns": null,
            "grid_auto_flow": null,
            "grid_auto_rows": null,
            "grid_column": null,
            "grid_gap": null,
            "grid_row": null,
            "grid_template_areas": null,
            "grid_template_columns": null,
            "grid_template_rows": null,
            "height": null,
            "justify_content": null,
            "justify_items": null,
            "left": null,
            "margin": null,
            "max_height": null,
            "max_width": null,
            "min_height": null,
            "min_width": null,
            "object_fit": null,
            "object_position": null,
            "order": null,
            "overflow": null,
            "overflow_x": null,
            "overflow_y": null,
            "padding": null,
            "right": null,
            "top": null,
            "visibility": null,
            "width": null
          }
        },
        "f4c84f6bd5064f9caaad2fb8178ad878": {
          "model_module": "@jupyter-widgets/controls",
          "model_name": "ProgressStyleModel",
          "model_module_version": "1.5.0",
          "state": {
            "_model_module": "@jupyter-widgets/controls",
            "_model_module_version": "1.5.0",
            "_model_name": "ProgressStyleModel",
            "_view_count": null,
            "_view_module": "@jupyter-widgets/base",
            "_view_module_version": "1.2.0",
            "_view_name": "StyleView",
            "bar_color": null,
            "description_width": ""
          }
        },
        "706540dda34e4ab785a65fc426b8953e": {
          "model_module": "@jupyter-widgets/base",
          "model_name": "LayoutModel",
          "model_module_version": "1.2.0",
          "state": {
            "_model_module": "@jupyter-widgets/base",
            "_model_module_version": "1.2.0",
            "_model_name": "LayoutModel",
            "_view_count": null,
            "_view_module": "@jupyter-widgets/base",
            "_view_module_version": "1.2.0",
            "_view_name": "LayoutView",
            "align_content": null,
            "align_items": null,
            "align_self": null,
            "border": null,
            "bottom": null,
            "display": null,
            "flex": null,
            "flex_flow": null,
            "grid_area": null,
            "grid_auto_columns": null,
            "grid_auto_flow": null,
            "grid_auto_rows": null,
            "grid_column": null,
            "grid_gap": null,
            "grid_row": null,
            "grid_template_areas": null,
            "grid_template_columns": null,
            "grid_template_rows": null,
            "height": null,
            "justify_content": null,
            "justify_items": null,
            "left": null,
            "margin": null,
            "max_height": null,
            "max_width": null,
            "min_height": null,
            "min_width": null,
            "object_fit": null,
            "object_position": null,
            "order": null,
            "overflow": null,
            "overflow_x": null,
            "overflow_y": null,
            "padding": null,
            "right": null,
            "top": null,
            "visibility": null,
            "width": null
          }
        },
        "96fad154cb2446a9b667c44b375226d9": {
          "model_module": "@jupyter-widgets/controls",
          "model_name": "DescriptionStyleModel",
          "model_module_version": "1.5.0",
          "state": {
            "_model_module": "@jupyter-widgets/controls",
            "_model_module_version": "1.5.0",
            "_model_name": "DescriptionStyleModel",
            "_view_count": null,
            "_view_module": "@jupyter-widgets/base",
            "_view_module_version": "1.2.0",
            "_view_name": "StyleView",
            "description_width": ""
          }
        },
        "a7209dc7c7f54ad28e5a2b05984a4d20": {
          "model_module": "@jupyter-widgets/controls",
          "model_name": "VBoxModel",
          "model_module_version": "1.5.0",
          "state": {
            "_dom_classes": [
              "widget-interact"
            ],
            "_model_module": "@jupyter-widgets/controls",
            "_model_module_version": "1.5.0",
            "_model_name": "VBoxModel",
            "_view_count": null,
            "_view_module": "@jupyter-widgets/controls",
            "_view_module_version": "1.5.0",
            "_view_name": "VBoxView",
            "box_style": "",
            "children": [
              "IPY_MODEL_4128f3a2a6e04abf85322e286abfc265",
              "IPY_MODEL_ecfdf7cc5e664566bad83a1af0831e58"
            ],
            "layout": "IPY_MODEL_bff6be5e1bca4a458be9dff1acca9a71"
          }
        },
        "4128f3a2a6e04abf85322e286abfc265": {
          "model_module": "@jupyter-widgets/controls",
          "model_name": "ToggleButtonsModel",
          "model_module_version": "1.5.0",
          "state": {
            "_dom_classes": [],
            "_model_module": "@jupyter-widgets/controls",
            "_model_module_version": "1.5.0",
            "_model_name": "ToggleButtonsModel",
            "_options_labels": [
              "Pipeline Plot",
              "Hyperparameters",
              "AUC",
              "Confusion Matrix",
              "Threshold",
              "Precision Recall",
              "Prediction Error",
              "Class Report",
              "Feature Selection",
              "Learning Curve",
              "Manifold Learning",
              "Calibration Curve",
              "Validation Curve",
              "Dimensions",
              "Feature Importance",
              "Feature Importance (All)",
              "Decision Boundary",
              "Lift Chart",
              "Gain Chart",
              "Decision Tree",
              "KS Statistic Plot"
            ],
            "_view_count": null,
            "_view_module": "@jupyter-widgets/controls",
            "_view_module_version": "1.5.0",
            "_view_name": "ToggleButtonsView",
            "button_style": "",
            "description": "Plot Type:",
            "description_tooltip": null,
            "disabled": false,
            "icons": [
              ""
            ],
            "index": 0,
            "layout": "IPY_MODEL_3a579eef74834830a8f3aad5dd9911ae",
            "style": "IPY_MODEL_6e6d8f9ce48f45bca1f543197d10a3e6",
            "tooltips": []
          }
        },
        "ecfdf7cc5e664566bad83a1af0831e58": {
          "model_module": "@jupyter-widgets/output",
          "model_name": "OutputModel",
          "model_module_version": "1.0.0",
          "state": {
            "_dom_classes": [],
            "_model_module": "@jupyter-widgets/output",
            "_model_module_version": "1.0.0",
            "_model_name": "OutputModel",
            "_view_count": null,
            "_view_module": "@jupyter-widgets/output",
            "_view_module_version": "1.0.0",
            "_view_name": "OutputView",
            "layout": "IPY_MODEL_4ba7e7dac1d54a21a39bbac164615c10",
            "msg_id": "",
            "outputs": [
              {
                "output_type": "display_data",
                "data": {
                  "text/plain": "<Figure size 2200x600 with 1 Axes>",
                  "image/png": "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\n"
                },
                "metadata": {}
              }
            ]
          }
        },
        "bff6be5e1bca4a458be9dff1acca9a71": {
          "model_module": "@jupyter-widgets/base",
          "model_name": "LayoutModel",
          "model_module_version": "1.2.0",
          "state": {
            "_model_module": "@jupyter-widgets/base",
            "_model_module_version": "1.2.0",
            "_model_name": "LayoutModel",
            "_view_count": null,
            "_view_module": "@jupyter-widgets/base",
            "_view_module_version": "1.2.0",
            "_view_name": "LayoutView",
            "align_content": null,
            "align_items": null,
            "align_self": null,
            "border": null,
            "bottom": null,
            "display": null,
            "flex": null,
            "flex_flow": null,
            "grid_area": null,
            "grid_auto_columns": null,
            "grid_auto_flow": null,
            "grid_auto_rows": null,
            "grid_column": null,
            "grid_gap": null,
            "grid_row": null,
            "grid_template_areas": null,
            "grid_template_columns": null,
            "grid_template_rows": null,
            "height": null,
            "justify_content": null,
            "justify_items": null,
            "left": null,
            "margin": null,
            "max_height": null,
            "max_width": null,
            "min_height": null,
            "min_width": null,
            "object_fit": null,
            "object_position": null,
            "order": null,
            "overflow": null,
            "overflow_x": null,
            "overflow_y": null,
            "padding": null,
            "right": null,
            "top": null,
            "visibility": null,
            "width": null
          }
        },
        "3a579eef74834830a8f3aad5dd9911ae": {
          "model_module": "@jupyter-widgets/base",
          "model_name": "LayoutModel",
          "model_module_version": "1.2.0",
          "state": {
            "_model_module": "@jupyter-widgets/base",
            "_model_module_version": "1.2.0",
            "_model_name": "LayoutModel",
            "_view_count": null,
            "_view_module": "@jupyter-widgets/base",
            "_view_module_version": "1.2.0",
            "_view_name": "LayoutView",
            "align_content": null,
            "align_items": null,
            "align_self": null,
            "border": null,
            "bottom": null,
            "display": null,
            "flex": null,
            "flex_flow": null,
            "grid_area": null,
            "grid_auto_columns": null,
            "grid_auto_flow": null,
            "grid_auto_rows": null,
            "grid_column": null,
            "grid_gap": null,
            "grid_row": null,
            "grid_template_areas": null,
            "grid_template_columns": null,
            "grid_template_rows": null,
            "height": null,
            "justify_content": null,
            "justify_items": null,
            "left": null,
            "margin": null,
            "max_height": null,
            "max_width": null,
            "min_height": null,
            "min_width": null,
            "object_fit": null,
            "object_position": null,
            "order": null,
            "overflow": null,
            "overflow_x": null,
            "overflow_y": null,
            "padding": null,
            "right": null,
            "top": null,
            "visibility": null,
            "width": null
          }
        },
        "6e6d8f9ce48f45bca1f543197d10a3e6": {
          "model_module": "@jupyter-widgets/controls",
          "model_name": "ToggleButtonsStyleModel",
          "model_module_version": "1.5.0",
          "state": {
            "_model_module": "@jupyter-widgets/controls",
            "_model_module_version": "1.5.0",
            "_model_name": "ToggleButtonsStyleModel",
            "_view_count": null,
            "_view_module": "@jupyter-widgets/base",
            "_view_module_version": "1.2.0",
            "_view_name": "StyleView",
            "button_width": "",
            "description_width": "",
            "font_weight": ""
          }
        },
        "4ba7e7dac1d54a21a39bbac164615c10": {
          "model_module": "@jupyter-widgets/base",
          "model_name": "LayoutModel",
          "model_module_version": "1.2.0",
          "state": {
            "_model_module": "@jupyter-widgets/base",
            "_model_module_version": "1.2.0",
            "_model_name": "LayoutModel",
            "_view_count": null,
            "_view_module": "@jupyter-widgets/base",
            "_view_module_version": "1.2.0",
            "_view_name": "LayoutView",
            "align_content": null,
            "align_items": null,
            "align_self": null,
            "border": null,
            "bottom": null,
            "display": null,
            "flex": null,
            "flex_flow": null,
            "grid_area": null,
            "grid_auto_columns": null,
            "grid_auto_flow": null,
            "grid_auto_rows": null,
            "grid_column": null,
            "grid_gap": null,
            "grid_row": null,
            "grid_template_areas": null,
            "grid_template_columns": null,
            "grid_template_rows": null,
            "height": null,
            "justify_content": null,
            "justify_items": null,
            "left": null,
            "margin": null,
            "max_height": null,
            "max_width": null,
            "min_height": null,
            "min_width": null,
            "object_fit": null,
            "object_position": null,
            "order": null,
            "overflow": null,
            "overflow_x": null,
            "overflow_y": null,
            "padding": null,
            "right": null,
            "top": null,
            "visibility": null,
            "width": null
          }
        }
      }
    }
  },
  "cells": [
    {
      "cell_type": "markdown",
      "source": [
        "INSTALAÇÃO PYCARET"
      ],
      "metadata": {
        "id": "Nd4dyXnu1mMR"
      }
    },
    {
      "cell_type": "code",
      "source": [
        "!pip install pycaret"
      ],
      "metadata": {
        "colab": {
          "base_uri": "https://localhost:8080/",
          "height": 1000
        },
        "id": "U7NK6-pW1mSx",
        "outputId": "ab2485b4-3636-47e9-8203-78126bf7d855"
      },
      "execution_count": 1,
      "outputs": [
        {
          "output_type": "stream",
          "name": "stdout",
          "text": [
            "Collecting pycaret\n",
            "  Downloading pycaret-3.2.0-py3-none-any.whl (484 kB)\n",
            "\u001b[2K     \u001b[90m━━━━━━━━━━━━━━━━━━━━━━━━━━━━━━━━━━━━━━━━\u001b[0m \u001b[32m484.7/484.7 kB\u001b[0m \u001b[31m7.6 MB/s\u001b[0m eta \u001b[36m0:00:00\u001b[0m\n",
            "\u001b[?25hCollecting category-encoders>=2.4.0 (from pycaret)\n",
            "  Downloading category_encoders-2.6.3-py2.py3-none-any.whl (81 kB)\n",
            "\u001b[2K     \u001b[90m━━━━━━━━━━━━━━━━━━━━━━━━━━━━━━━━━━━━━━━━\u001b[0m \u001b[32m81.9/81.9 kB\u001b[0m \u001b[31m6.2 MB/s\u001b[0m eta \u001b[36m0:00:00\u001b[0m\n",
            "\u001b[?25hRequirement already satisfied: cloudpickle in /usr/local/lib/python3.10/dist-packages (from pycaret) (2.2.1)\n",
            "Collecting deprecation>=2.1.0 (from pycaret)\n",
            "  Downloading deprecation-2.1.0-py2.py3-none-any.whl (11 kB)\n",
            "Requirement already satisfied: imbalanced-learn>=0.8.1 in /usr/local/lib/python3.10/dist-packages (from pycaret) (0.10.1)\n",
            "Requirement already satisfied: importlib-metadata>=4.12.0 in /usr/local/lib/python3.10/dist-packages (from pycaret) (6.8.0)\n",
            "Requirement already satisfied: ipython>=5.5.0 in /usr/local/lib/python3.10/dist-packages (from pycaret) (7.34.0)\n",
            "Requirement already satisfied: ipywidgets>=7.6.5 in /usr/local/lib/python3.10/dist-packages (from pycaret) (7.7.1)\n",
            "Requirement already satisfied: jinja2>=1.2 in /usr/local/lib/python3.10/dist-packages (from pycaret) (3.1.2)\n",
            "Requirement already satisfied: joblib>=1.2.0 in /usr/local/lib/python3.10/dist-packages (from pycaret) (1.3.2)\n",
            "Collecting kaleido>=0.2.1 (from pycaret)\n",
            "  Downloading kaleido-0.2.1-py2.py3-none-manylinux1_x86_64.whl (79.9 MB)\n",
            "\u001b[2K     \u001b[90m━━━━━━━━━━━━━━━━━━━━━━━━━━━━━━━━━━━━━━━━\u001b[0m \u001b[32m79.9/79.9 MB\u001b[0m \u001b[31m12.4 MB/s\u001b[0m eta \u001b[36m0:00:00\u001b[0m\n",
            "\u001b[?25hRequirement already satisfied: lightgbm>=3.0.0 in /usr/local/lib/python3.10/dist-packages (from pycaret) (4.1.0)\n",
            "Requirement already satisfied: markupsafe>=2.0.1 in /usr/local/lib/python3.10/dist-packages (from pycaret) (2.1.3)\n",
            "Collecting matplotlib<=3.6,>=3.3.0 (from pycaret)\n",
            "  Downloading matplotlib-3.6.0-cp310-cp310-manylinux_2_17_x86_64.manylinux2014_x86_64.whl (11.8 MB)\n",
            "\u001b[2K     \u001b[90m━━━━━━━━━━━━━━━━━━━━━━━━━━━━━━━━━━━━━━━━\u001b[0m \u001b[32m11.8/11.8 MB\u001b[0m \u001b[31m69.9 MB/s\u001b[0m eta \u001b[36m0:00:00\u001b[0m\n",
            "\u001b[?25hRequirement already satisfied: nbformat>=4.2.0 in /usr/local/lib/python3.10/dist-packages (from pycaret) (5.9.2)\n",
            "Requirement already satisfied: numba>=0.55.0 in /usr/local/lib/python3.10/dist-packages (from pycaret) (0.58.1)\n",
            "Requirement already satisfied: numpy<1.27,>=1.21 in /usr/local/lib/python3.10/dist-packages (from pycaret) (1.23.5)\n",
            "Requirement already satisfied: pandas<2.0.0,>=1.3.0 in /usr/local/lib/python3.10/dist-packages (from pycaret) (1.5.3)\n",
            "Collecting plotly-resampler>=0.8.3.1 (from pycaret)\n",
            "  Downloading plotly_resampler-0.9.1-py3-none-any.whl (73 kB)\n",
            "\u001b[2K     \u001b[90m━━━━━━━━━━━━━━━━━━━━━━━━━━━━━━━━━━━━━━━━\u001b[0m \u001b[32m73.4/73.4 kB\u001b[0m \u001b[31m6.1 MB/s\u001b[0m eta \u001b[36m0:00:00\u001b[0m\n",
            "\u001b[?25hRequirement already satisfied: plotly>=5.0.0 in /usr/local/lib/python3.10/dist-packages (from pycaret) (5.15.0)\n",
            "Collecting pmdarima!=1.8.1,<3.0.0,>=1.8.0 (from pycaret)\n",
            "  Downloading pmdarima-2.0.4-cp310-cp310-manylinux_2_17_x86_64.manylinux2014_x86_64.manylinux_2_28_x86_64.whl (2.1 MB)\n",
            "\u001b[2K     \u001b[90m━━━━━━━━━━━━━━━━━━━━━━━━━━━━━━━━━━━━━━━━\u001b[0m \u001b[32m2.1/2.1 MB\u001b[0m \u001b[31m41.3 MB/s\u001b[0m eta \u001b[36m0:00:00\u001b[0m\n",
            "\u001b[?25hRequirement already satisfied: psutil>=5.9.0 in /usr/local/lib/python3.10/dist-packages (from pycaret) (5.9.5)\n",
            "Collecting pyod>=1.0.8 (from pycaret)\n",
            "  Downloading pyod-1.1.2.tar.gz (160 kB)\n",
            "\u001b[2K     \u001b[90m━━━━━━━━━━━━━━━━━━━━━━━━━━━━━━━━━━━━━━━━\u001b[0m \u001b[32m160.5/160.5 kB\u001b[0m \u001b[31m19.2 MB/s\u001b[0m eta \u001b[36m0:00:00\u001b[0m\n",
            "\u001b[?25h  Preparing metadata (setup.py) ... \u001b[?25l\u001b[?25hdone\n",
            "Requirement already satisfied: requests>=2.27.1 in /usr/local/lib/python3.10/dist-packages (from pycaret) (2.31.0)\n",
            "Collecting schemdraw==0.15 (from pycaret)\n",
            "  Downloading schemdraw-0.15-py3-none-any.whl (106 kB)\n",
            "\u001b[2K     \u001b[90m━━━━━━━━━━━━━━━━━━━━━━━━━━━━━━━━━━━━━━━━\u001b[0m \u001b[32m106.8/106.8 kB\u001b[0m \u001b[31m13.0 MB/s\u001b[0m eta \u001b[36m0:00:00\u001b[0m\n",
            "\u001b[?25hRequirement already satisfied: scikit-learn<1.3.0,>=1.0 in /usr/local/lib/python3.10/dist-packages (from pycaret) (1.2.2)\n",
            "Collecting scikit-plot>=0.3.7 (from pycaret)\n",
            "  Downloading scikit_plot-0.3.7-py3-none-any.whl (33 kB)\n",
            "Collecting scipy~=1.10.1 (from pycaret)\n",
            "  Downloading scipy-1.10.1-cp310-cp310-manylinux_2_17_x86_64.manylinux2014_x86_64.whl (34.4 MB)\n",
            "\u001b[2K     \u001b[90m━━━━━━━━━━━━━━━━━━━━━━━━━━━━━━━━━━━━━━━━\u001b[0m \u001b[32m34.4/34.4 MB\u001b[0m \u001b[31m17.2 MB/s\u001b[0m eta \u001b[36m0:00:00\u001b[0m\n",
            "\u001b[?25hCollecting sktime!=0.17.1,!=0.17.2,!=0.18.0,<0.22.0,>=0.16.1 (from pycaret)\n",
            "  Downloading sktime-0.21.1-py3-none-any.whl (17.1 MB)\n",
            "\u001b[2K     \u001b[90m━━━━━━━━━━━━━━━━━━━━━━━━━━━━━━━━━━━━━━━━\u001b[0m \u001b[32m17.1/17.1 MB\u001b[0m \u001b[31m79.8 MB/s\u001b[0m eta \u001b[36m0:00:00\u001b[0m\n",
            "\u001b[?25hRequirement already satisfied: statsmodels>=0.12.1 in /usr/local/lib/python3.10/dist-packages (from pycaret) (0.14.0)\n",
            "Collecting tbats>=1.1.3 (from pycaret)\n",
            "  Downloading tbats-1.1.3-py3-none-any.whl (44 kB)\n",
            "\u001b[2K     \u001b[90m━━━━━━━━━━━━━━━━━━━━━━━━━━━━━━━━━━━━━━━━\u001b[0m \u001b[32m44.0/44.0 kB\u001b[0m \u001b[31m6.0 MB/s\u001b[0m eta \u001b[36m0:00:00\u001b[0m\n",
            "\u001b[?25hRequirement already satisfied: tqdm>=4.62.0 in /usr/local/lib/python3.10/dist-packages (from pycaret) (4.66.1)\n",
            "Requirement already satisfied: xxhash in /usr/local/lib/python3.10/dist-packages (from pycaret) (3.4.1)\n",
            "Requirement already satisfied: yellowbrick>=1.4 in /usr/local/lib/python3.10/dist-packages (from pycaret) (1.5)\n",
            "Collecting wurlitzer (from pycaret)\n",
            "  Downloading wurlitzer-3.0.3-py3-none-any.whl (7.3 kB)\n",
            "Requirement already satisfied: patsy>=0.5.1 in /usr/local/lib/python3.10/dist-packages (from category-encoders>=2.4.0->pycaret) (0.5.3)\n",
            "Requirement already satisfied: packaging in /usr/local/lib/python3.10/dist-packages (from deprecation>=2.1.0->pycaret) (23.2)\n",
            "Requirement already satisfied: threadpoolctl>=2.0.0 in /usr/local/lib/python3.10/dist-packages (from imbalanced-learn>=0.8.1->pycaret) (3.2.0)\n",
            "Requirement already satisfied: zipp>=0.5 in /usr/local/lib/python3.10/dist-packages (from importlib-metadata>=4.12.0->pycaret) (3.17.0)\n",
            "Requirement already satisfied: setuptools>=18.5 in /usr/local/lib/python3.10/dist-packages (from ipython>=5.5.0->pycaret) (67.7.2)\n",
            "Collecting jedi>=0.16 (from ipython>=5.5.0->pycaret)\n",
            "  Downloading jedi-0.19.1-py2.py3-none-any.whl (1.6 MB)\n",
            "\u001b[2K     \u001b[90m━━━━━━━━━━━━━━━━━━━━━━━━━━━━━━━━━━━━━━━━\u001b[0m \u001b[32m1.6/1.6 MB\u001b[0m \u001b[31m83.7 MB/s\u001b[0m eta \u001b[36m0:00:00\u001b[0m\n",
            "\u001b[?25hRequirement already satisfied: decorator in /usr/local/lib/python3.10/dist-packages (from ipython>=5.5.0->pycaret) (4.4.2)\n",
            "Requirement already satisfied: pickleshare in /usr/local/lib/python3.10/dist-packages (from ipython>=5.5.0->pycaret) (0.7.5)\n",
            "Requirement already satisfied: traitlets>=4.2 in /usr/local/lib/python3.10/dist-packages (from ipython>=5.5.0->pycaret) (5.7.1)\n",
            "Requirement already satisfied: prompt-toolkit!=3.0.0,!=3.0.1,<3.1.0,>=2.0.0 in /usr/local/lib/python3.10/dist-packages (from ipython>=5.5.0->pycaret) (3.0.41)\n",
            "Requirement already satisfied: pygments in /usr/local/lib/python3.10/dist-packages (from ipython>=5.5.0->pycaret) (2.16.1)\n",
            "Requirement already satisfied: backcall in /usr/local/lib/python3.10/dist-packages (from ipython>=5.5.0->pycaret) (0.2.0)\n",
            "Requirement already satisfied: matplotlib-inline in /usr/local/lib/python3.10/dist-packages (from ipython>=5.5.0->pycaret) (0.1.6)\n",
            "Requirement already satisfied: pexpect>4.3 in /usr/local/lib/python3.10/dist-packages (from ipython>=5.5.0->pycaret) (4.8.0)\n",
            "Requirement already satisfied: ipykernel>=4.5.1 in /usr/local/lib/python3.10/dist-packages (from ipywidgets>=7.6.5->pycaret) (5.5.6)\n",
            "Requirement already satisfied: ipython-genutils~=0.2.0 in /usr/local/lib/python3.10/dist-packages (from ipywidgets>=7.6.5->pycaret) (0.2.0)\n",
            "Requirement already satisfied: widgetsnbextension~=3.6.0 in /usr/local/lib/python3.10/dist-packages (from ipywidgets>=7.6.5->pycaret) (3.6.6)\n",
            "Requirement already satisfied: jupyterlab-widgets>=1.0.0 in /usr/local/lib/python3.10/dist-packages (from ipywidgets>=7.6.5->pycaret) (3.0.9)\n",
            "Requirement already satisfied: contourpy>=1.0.1 in /usr/local/lib/python3.10/dist-packages (from matplotlib<=3.6,>=3.3.0->pycaret) (1.2.0)\n",
            "Requirement already satisfied: cycler>=0.10 in /usr/local/lib/python3.10/dist-packages (from matplotlib<=3.6,>=3.3.0->pycaret) (0.12.1)\n",
            "Requirement already satisfied: fonttools>=4.22.0 in /usr/local/lib/python3.10/dist-packages (from matplotlib<=3.6,>=3.3.0->pycaret) (4.44.3)\n",
            "Requirement already satisfied: kiwisolver>=1.0.1 in /usr/local/lib/python3.10/dist-packages (from matplotlib<=3.6,>=3.3.0->pycaret) (1.4.5)\n",
            "Requirement already satisfied: pillow>=6.2.0 in /usr/local/lib/python3.10/dist-packages (from matplotlib<=3.6,>=3.3.0->pycaret) (9.4.0)\n",
            "Requirement already satisfied: pyparsing>=2.2.1 in /usr/local/lib/python3.10/dist-packages (from matplotlib<=3.6,>=3.3.0->pycaret) (3.1.1)\n",
            "Requirement already satisfied: python-dateutil>=2.7 in /usr/local/lib/python3.10/dist-packages (from matplotlib<=3.6,>=3.3.0->pycaret) (2.8.2)\n",
            "Requirement already satisfied: fastjsonschema in /usr/local/lib/python3.10/dist-packages (from nbformat>=4.2.0->pycaret) (2.19.0)\n",
            "Requirement already satisfied: jsonschema>=2.6 in /usr/local/lib/python3.10/dist-packages (from nbformat>=4.2.0->pycaret) (4.19.2)\n",
            "Requirement already satisfied: jupyter-core in /usr/local/lib/python3.10/dist-packages (from nbformat>=4.2.0->pycaret) (5.5.0)\n",
            "Requirement already satisfied: llvmlite<0.42,>=0.41.0dev0 in /usr/local/lib/python3.10/dist-packages (from numba>=0.55.0->pycaret) (0.41.1)\n",
            "Requirement already satisfied: pytz>=2020.1 in /usr/local/lib/python3.10/dist-packages (from pandas<2.0.0,>=1.3.0->pycaret) (2023.3.post1)\n",
            "Requirement already satisfied: tenacity>=6.2.0 in /usr/local/lib/python3.10/dist-packages (from plotly>=5.0.0->pycaret) (8.2.3)\n",
            "Collecting dash<3.0.0,>=2.11.0 (from plotly-resampler>=0.8.3.1->pycaret)\n",
            "  Downloading dash-2.14.1-py3-none-any.whl (10.4 MB)\n",
            "\u001b[2K     \u001b[90m━━━━━━━━━━━━━━━━━━━━━━━━━━━━━━━━━━━━━━━━\u001b[0m \u001b[32m10.4/10.4 MB\u001b[0m \u001b[31m60.8 MB/s\u001b[0m eta \u001b[36m0:00:00\u001b[0m\n",
            "\u001b[?25hCollecting orjson<4.0.0,>=3.8.0 (from plotly-resampler>=0.8.3.1->pycaret)\n",
            "  Downloading orjson-3.9.10-cp310-cp310-manylinux_2_17_x86_64.manylinux2014_x86_64.whl (138 kB)\n",
            "\u001b[2K     \u001b[90m━━━━━━━━━━━━━━━━━━━━━━━━━━━━━━━━━━━━━━━━\u001b[0m \u001b[32m138.7/138.7 kB\u001b[0m \u001b[31m12.8 MB/s\u001b[0m eta \u001b[36m0:00:00\u001b[0m\n",
            "\u001b[?25hCollecting trace-updater>=0.0.8 (from plotly-resampler>=0.8.3.1->pycaret)\n",
            "  Downloading trace_updater-0.0.9.1-py3-none-any.whl (185 kB)\n",
            "\u001b[2K     \u001b[90m━━━━━━━━━━━━━━━━━━━━━━━━━━━━━━━━━━━━━━━━\u001b[0m \u001b[32m185.2/185.2 kB\u001b[0m \u001b[31m21.8 MB/s\u001b[0m eta \u001b[36m0:00:00\u001b[0m\n",
            "\u001b[?25hCollecting tsdownsample==0.1.2 (from plotly-resampler>=0.8.3.1->pycaret)\n",
            "  Downloading tsdownsample-0.1.2-cp310-cp310-manylinux_2_17_x86_64.manylinux2014_x86_64.whl (2.3 MB)\n",
            "\u001b[2K     \u001b[90m━━━━━━━━━━━━━━━━━━━━━━━━━━━━━━━━━━━━━━━━\u001b[0m \u001b[32m2.3/2.3 MB\u001b[0m \u001b[31m89.0 MB/s\u001b[0m eta \u001b[36m0:00:00\u001b[0m\n",
            "\u001b[?25hRequirement already satisfied: Cython!=0.29.18,!=0.29.31,>=0.29 in /usr/local/lib/python3.10/dist-packages (from pmdarima!=1.8.1,<3.0.0,>=1.8.0->pycaret) (3.0.5)\n",
            "Requirement already satisfied: urllib3 in /usr/local/lib/python3.10/dist-packages (from pmdarima!=1.8.1,<3.0.0,>=1.8.0->pycaret) (2.0.7)\n",
            "Requirement already satisfied: six in /usr/local/lib/python3.10/dist-packages (from pyod>=1.0.8->pycaret) (1.16.0)\n",
            "Requirement already satisfied: charset-normalizer<4,>=2 in /usr/local/lib/python3.10/dist-packages (from requests>=2.27.1->pycaret) (3.3.2)\n",
            "Requirement already satisfied: idna<4,>=2.5 in /usr/local/lib/python3.10/dist-packages (from requests>=2.27.1->pycaret) (3.4)\n",
            "Requirement already satisfied: certifi>=2017.4.17 in /usr/local/lib/python3.10/dist-packages (from requests>=2.27.1->pycaret) (2023.7.22)\n",
            "Collecting deprecated>=1.2.13 (from sktime!=0.17.1,!=0.17.2,!=0.18.0,<0.22.0,>=0.16.1->pycaret)\n",
            "  Downloading Deprecated-1.2.14-py2.py3-none-any.whl (9.6 kB)\n",
            "Collecting scikit-base<0.6.0 (from sktime!=0.17.1,!=0.17.2,!=0.18.0,<0.22.0,>=0.16.1->pycaret)\n",
            "  Downloading scikit_base-0.5.2-py3-none-any.whl (118 kB)\n",
            "\u001b[2K     \u001b[90m━━━━━━━━━━━━━━━━━━━━━━━━━━━━━━━━━━━━━━━━\u001b[0m \u001b[32m119.0/119.0 kB\u001b[0m \u001b[31m12.6 MB/s\u001b[0m eta \u001b[36m0:00:00\u001b[0m\n",
            "\u001b[?25hRequirement already satisfied: Flask<3.1,>=1.0.4 in /usr/local/lib/python3.10/dist-packages (from dash<3.0.0,>=2.11.0->plotly-resampler>=0.8.3.1->pycaret) (2.2.5)\n",
            "Requirement already satisfied: Werkzeug<3.1 in /usr/local/lib/python3.10/dist-packages (from dash<3.0.0,>=2.11.0->plotly-resampler>=0.8.3.1->pycaret) (3.0.1)\n",
            "Collecting dash-html-components==2.0.0 (from dash<3.0.0,>=2.11.0->plotly-resampler>=0.8.3.1->pycaret)\n",
            "  Downloading dash_html_components-2.0.0-py3-none-any.whl (4.1 kB)\n",
            "Collecting dash-core-components==2.0.0 (from dash<3.0.0,>=2.11.0->plotly-resampler>=0.8.3.1->pycaret)\n",
            "  Downloading dash_core_components-2.0.0-py3-none-any.whl (3.8 kB)\n",
            "Collecting dash-table==5.0.0 (from dash<3.0.0,>=2.11.0->plotly-resampler>=0.8.3.1->pycaret)\n",
            "  Downloading dash_table-5.0.0-py3-none-any.whl (3.9 kB)\n",
            "Requirement already satisfied: typing-extensions>=4.1.1 in /usr/local/lib/python3.10/dist-packages (from dash<3.0.0,>=2.11.0->plotly-resampler>=0.8.3.1->pycaret) (4.5.0)\n",
            "Collecting retrying (from dash<3.0.0,>=2.11.0->plotly-resampler>=0.8.3.1->pycaret)\n",
            "  Downloading retrying-1.3.4-py3-none-any.whl (11 kB)\n",
            "Collecting ansi2html (from dash<3.0.0,>=2.11.0->plotly-resampler>=0.8.3.1->pycaret)\n",
            "  Downloading ansi2html-1.8.0-py3-none-any.whl (16 kB)\n",
            "Requirement already satisfied: nest-asyncio in /usr/local/lib/python3.10/dist-packages (from dash<3.0.0,>=2.11.0->plotly-resampler>=0.8.3.1->pycaret) (1.5.8)\n",
            "Requirement already satisfied: wrapt<2,>=1.10 in /usr/local/lib/python3.10/dist-packages (from deprecated>=1.2.13->sktime!=0.17.1,!=0.17.2,!=0.18.0,<0.22.0,>=0.16.1->pycaret) (1.14.1)\n",
            "Requirement already satisfied: jupyter-client in /usr/local/lib/python3.10/dist-packages (from ipykernel>=4.5.1->ipywidgets>=7.6.5->pycaret) (6.1.12)\n",
            "Requirement already satisfied: tornado>=4.2 in /usr/local/lib/python3.10/dist-packages (from ipykernel>=4.5.1->ipywidgets>=7.6.5->pycaret) (6.3.2)\n",
            "Requirement already satisfied: parso<0.9.0,>=0.8.3 in /usr/local/lib/python3.10/dist-packages (from jedi>=0.16->ipython>=5.5.0->pycaret) (0.8.3)\n",
            "Requirement already satisfied: attrs>=22.2.0 in /usr/local/lib/python3.10/dist-packages (from jsonschema>=2.6->nbformat>=4.2.0->pycaret) (23.1.0)\n",
            "Requirement already satisfied: jsonschema-specifications>=2023.03.6 in /usr/local/lib/python3.10/dist-packages (from jsonschema>=2.6->nbformat>=4.2.0->pycaret) (2023.11.1)\n",
            "Requirement already satisfied: referencing>=0.28.4 in /usr/local/lib/python3.10/dist-packages (from jsonschema>=2.6->nbformat>=4.2.0->pycaret) (0.31.0)\n",
            "Requirement already satisfied: rpds-py>=0.7.1 in /usr/local/lib/python3.10/dist-packages (from jsonschema>=2.6->nbformat>=4.2.0->pycaret) (0.13.0)\n",
            "Requirement already satisfied: ptyprocess>=0.5 in /usr/local/lib/python3.10/dist-packages (from pexpect>4.3->ipython>=5.5.0->pycaret) (0.7.0)\n",
            "Requirement already satisfied: wcwidth in /usr/local/lib/python3.10/dist-packages (from prompt-toolkit!=3.0.0,!=3.0.1,<3.1.0,>=2.0.0->ipython>=5.5.0->pycaret) (0.2.10)\n",
            "Requirement already satisfied: notebook>=4.4.1 in /usr/local/lib/python3.10/dist-packages (from widgetsnbextension~=3.6.0->ipywidgets>=7.6.5->pycaret) (6.5.5)\n",
            "Requirement already satisfied: platformdirs>=2.5 in /usr/local/lib/python3.10/dist-packages (from jupyter-core->nbformat>=4.2.0->pycaret) (4.0.0)\n",
            "Requirement already satisfied: itsdangerous>=2.0 in /usr/local/lib/python3.10/dist-packages (from Flask<3.1,>=1.0.4->dash<3.0.0,>=2.11.0->plotly-resampler>=0.8.3.1->pycaret) (2.1.2)\n",
            "Requirement already satisfied: click>=8.0 in /usr/local/lib/python3.10/dist-packages (from Flask<3.1,>=1.0.4->dash<3.0.0,>=2.11.0->plotly-resampler>=0.8.3.1->pycaret) (8.1.7)\n",
            "Requirement already satisfied: pyzmq<25,>=17 in /usr/local/lib/python3.10/dist-packages (from notebook>=4.4.1->widgetsnbextension~=3.6.0->ipywidgets>=7.6.5->pycaret) (23.2.1)\n",
            "Requirement already satisfied: argon2-cffi in /usr/local/lib/python3.10/dist-packages (from notebook>=4.4.1->widgetsnbextension~=3.6.0->ipywidgets>=7.6.5->pycaret) (23.1.0)\n",
            "Requirement already satisfied: nbconvert>=5 in /usr/local/lib/python3.10/dist-packages (from notebook>=4.4.1->widgetsnbextension~=3.6.0->ipywidgets>=7.6.5->pycaret) (6.5.4)\n",
            "Requirement already satisfied: Send2Trash>=1.8.0 in /usr/local/lib/python3.10/dist-packages (from notebook>=4.4.1->widgetsnbextension~=3.6.0->ipywidgets>=7.6.5->pycaret) (1.8.2)\n",
            "Requirement already satisfied: terminado>=0.8.3 in /usr/local/lib/python3.10/dist-packages (from notebook>=4.4.1->widgetsnbextension~=3.6.0->ipywidgets>=7.6.5->pycaret) (0.18.0)\n",
            "Requirement already satisfied: prometheus-client in /usr/local/lib/python3.10/dist-packages (from notebook>=4.4.1->widgetsnbextension~=3.6.0->ipywidgets>=7.6.5->pycaret) (0.18.0)\n",
            "Requirement already satisfied: nbclassic>=0.4.7 in /usr/local/lib/python3.10/dist-packages (from notebook>=4.4.1->widgetsnbextension~=3.6.0->ipywidgets>=7.6.5->pycaret) (1.0.0)\n",
            "Requirement already satisfied: jupyter-server>=1.8 in /usr/local/lib/python3.10/dist-packages (from nbclassic>=0.4.7->notebook>=4.4.1->widgetsnbextension~=3.6.0->ipywidgets>=7.6.5->pycaret) (1.24.0)\n",
            "Requirement already satisfied: notebook-shim>=0.2.3 in /usr/local/lib/python3.10/dist-packages (from nbclassic>=0.4.7->notebook>=4.4.1->widgetsnbextension~=3.6.0->ipywidgets>=7.6.5->pycaret) (0.2.3)\n",
            "Requirement already satisfied: lxml in /usr/local/lib/python3.10/dist-packages (from nbconvert>=5->notebook>=4.4.1->widgetsnbextension~=3.6.0->ipywidgets>=7.6.5->pycaret) (4.9.3)\n",
            "Requirement already satisfied: beautifulsoup4 in /usr/local/lib/python3.10/dist-packages (from nbconvert>=5->notebook>=4.4.1->widgetsnbextension~=3.6.0->ipywidgets>=7.6.5->pycaret) (4.11.2)\n",
            "Requirement already satisfied: bleach in /usr/local/lib/python3.10/dist-packages (from nbconvert>=5->notebook>=4.4.1->widgetsnbextension~=3.6.0->ipywidgets>=7.6.5->pycaret) (6.1.0)\n",
            "Requirement already satisfied: defusedxml in /usr/local/lib/python3.10/dist-packages (from nbconvert>=5->notebook>=4.4.1->widgetsnbextension~=3.6.0->ipywidgets>=7.6.5->pycaret) (0.7.1)\n",
            "Requirement already satisfied: entrypoints>=0.2.2 in /usr/local/lib/python3.10/dist-packages (from nbconvert>=5->notebook>=4.4.1->widgetsnbextension~=3.6.0->ipywidgets>=7.6.5->pycaret) (0.4)\n",
            "Requirement already satisfied: jupyterlab-pygments in /usr/local/lib/python3.10/dist-packages (from nbconvert>=5->notebook>=4.4.1->widgetsnbextension~=3.6.0->ipywidgets>=7.6.5->pycaret) (0.2.2)\n",
            "Requirement already satisfied: mistune<2,>=0.8.1 in /usr/local/lib/python3.10/dist-packages (from nbconvert>=5->notebook>=4.4.1->widgetsnbextension~=3.6.0->ipywidgets>=7.6.5->pycaret) (0.8.4)\n",
            "Requirement already satisfied: nbclient>=0.5.0 in /usr/local/lib/python3.10/dist-packages (from nbconvert>=5->notebook>=4.4.1->widgetsnbextension~=3.6.0->ipywidgets>=7.6.5->pycaret) (0.9.0)\n",
            "Requirement already satisfied: pandocfilters>=1.4.1 in /usr/local/lib/python3.10/dist-packages (from nbconvert>=5->notebook>=4.4.1->widgetsnbextension~=3.6.0->ipywidgets>=7.6.5->pycaret) (1.5.0)\n",
            "Requirement already satisfied: tinycss2 in /usr/local/lib/python3.10/dist-packages (from nbconvert>=5->notebook>=4.4.1->widgetsnbextension~=3.6.0->ipywidgets>=7.6.5->pycaret) (1.2.1)\n",
            "Requirement already satisfied: argon2-cffi-bindings in /usr/local/lib/python3.10/dist-packages (from argon2-cffi->notebook>=4.4.1->widgetsnbextension~=3.6.0->ipywidgets>=7.6.5->pycaret) (21.2.0)\n",
            "Requirement already satisfied: anyio<4,>=3.1.0 in /usr/local/lib/python3.10/dist-packages (from jupyter-server>=1.8->nbclassic>=0.4.7->notebook>=4.4.1->widgetsnbextension~=3.6.0->ipywidgets>=7.6.5->pycaret) (3.7.1)\n",
            "Requirement already satisfied: websocket-client in /usr/local/lib/python3.10/dist-packages (from jupyter-server>=1.8->nbclassic>=0.4.7->notebook>=4.4.1->widgetsnbextension~=3.6.0->ipywidgets>=7.6.5->pycaret) (1.6.4)\n",
            "Requirement already satisfied: cffi>=1.0.1 in /usr/local/lib/python3.10/dist-packages (from argon2-cffi-bindings->argon2-cffi->notebook>=4.4.1->widgetsnbextension~=3.6.0->ipywidgets>=7.6.5->pycaret) (1.16.0)\n",
            "Requirement already satisfied: soupsieve>1.2 in /usr/local/lib/python3.10/dist-packages (from beautifulsoup4->nbconvert>=5->notebook>=4.4.1->widgetsnbextension~=3.6.0->ipywidgets>=7.6.5->pycaret) (2.5)\n",
            "Requirement already satisfied: webencodings in /usr/local/lib/python3.10/dist-packages (from bleach->nbconvert>=5->notebook>=4.4.1->widgetsnbextension~=3.6.0->ipywidgets>=7.6.5->pycaret) (0.5.1)\n",
            "Requirement already satisfied: sniffio>=1.1 in /usr/local/lib/python3.10/dist-packages (from anyio<4,>=3.1.0->jupyter-server>=1.8->nbclassic>=0.4.7->notebook>=4.4.1->widgetsnbextension~=3.6.0->ipywidgets>=7.6.5->pycaret) (1.3.0)\n",
            "Requirement already satisfied: exceptiongroup in /usr/local/lib/python3.10/dist-packages (from anyio<4,>=3.1.0->jupyter-server>=1.8->nbclassic>=0.4.7->notebook>=4.4.1->widgetsnbextension~=3.6.0->ipywidgets>=7.6.5->pycaret) (1.1.3)\n",
            "Requirement already satisfied: pycparser in /usr/local/lib/python3.10/dist-packages (from cffi>=1.0.1->argon2-cffi-bindings->argon2-cffi->notebook>=4.4.1->widgetsnbextension~=3.6.0->ipywidgets>=7.6.5->pycaret) (2.21)\n",
            "Building wheels for collected packages: pyod\n",
            "  Building wheel for pyod (setup.py) ... \u001b[?25l\u001b[?25hdone\n",
            "  Created wheel for pyod: filename=pyod-1.1.2-py3-none-any.whl size=190289 sha256=fa2b60c0bd2e36900f807328eb22490e689c714808c0a845b5032d446bb5c3c6\n",
            "  Stored in directory: /root/.cache/pip/wheels/81/1b/61/aa85b78c3c0c8871f4231e3f4a03bb23cecb7db829498380ee\n",
            "Successfully built pyod\n",
            "Installing collected packages: trace-updater, kaleido, dash-table, dash-html-components, dash-core-components, wurlitzer, tsdownsample, scipy, scikit-base, schemdraw, retrying, orjson, jedi, deprecation, deprecated, ansi2html, matplotlib, sktime, scikit-plot, pyod, dash, pmdarima, plotly-resampler, category-encoders, tbats, pycaret\n",
            "  Attempting uninstall: scipy\n",
            "    Found existing installation: scipy 1.11.3\n",
            "    Uninstalling scipy-1.11.3:\n",
            "      Successfully uninstalled scipy-1.11.3\n",
            "  Attempting uninstall: matplotlib\n",
            "    Found existing installation: matplotlib 3.7.1\n",
            "    Uninstalling matplotlib-3.7.1:\n",
            "      Successfully uninstalled matplotlib-3.7.1\n",
            "\u001b[31mERROR: pip's dependency resolver does not currently take into account all the packages that are installed. This behaviour is the source of the following dependency conflicts.\n",
            "lida 0.0.10 requires fastapi, which is not installed.\n",
            "lida 0.0.10 requires python-multipart, which is not installed.\n",
            "lida 0.0.10 requires uvicorn, which is not installed.\u001b[0m\u001b[31m\n",
            "\u001b[0mSuccessfully installed ansi2html-1.8.0 category-encoders-2.6.3 dash-2.14.1 dash-core-components-2.0.0 dash-html-components-2.0.0 dash-table-5.0.0 deprecated-1.2.14 deprecation-2.1.0 jedi-0.19.1 kaleido-0.2.1 matplotlib-3.6.0 orjson-3.9.10 plotly-resampler-0.9.1 pmdarima-2.0.4 pycaret-3.2.0 pyod-1.1.2 retrying-1.3.4 schemdraw-0.15 scikit-base-0.5.2 scikit-plot-0.3.7 scipy-1.10.1 sktime-0.21.1 tbats-1.1.3 trace-updater-0.0.9.1 tsdownsample-0.1.2 wurlitzer-3.0.3\n"
          ]
        },
        {
          "output_type": "display_data",
          "data": {
            "application/vnd.colab-display-data+json": {
              "pip_warning": {
                "packages": [
                  "matplotlib",
                  "mpl_toolkits"
                ]
              }
            }
          },
          "metadata": {}
        }
      ]
    },
    {
      "cell_type": "markdown",
      "source": [
        "IMPORTAÇÃO DE BIBLIOTECAS"
      ],
      "metadata": {
        "id": "qeuqZp1A1mY_"
      }
    },
    {
      "cell_type": "code",
      "source": [
        "import pandas as pd\n",
        "from sklearn.model_selection import train_test_split\n",
        "from sklearn.pipeline import Pipeline\n",
        "from sklearn.compose import ColumnTransformer\n",
        "from sklearn.impute import SimpleImputer\n",
        "from sklearn.preprocessing import StandardScaler, OneHotEncoder\n",
        "from sklearn.ensemble import RandomForestClassifier\n",
        "from sklearn.svm import SVC\n",
        "from sklearn.metrics import accuracy_score, classification_report\n",
        "from pycaret.classification import *"
      ],
      "metadata": {
        "id": "niWQ_gfE1mhl"
      },
      "execution_count": 2,
      "outputs": []
    },
    {
      "cell_type": "markdown",
      "source": [
        "CARREGAMENTO DO CONJUNTO DE DADOS"
      ],
      "metadata": {
        "id": "IfkXkEhT1mov"
      }
    },
    {
      "cell_type": "code",
      "source": [
        "url = 'csgo_data/csgo_round_snapshots.xlsx'\n",
        "csgo_data = pd.read_excel(url)"
      ],
      "metadata": {
        "id": "8OpHfvB51mvq"
      },
      "execution_count": 4,
      "outputs": []
    },
    {
      "cell_type": "markdown",
      "source": [
        "DEFINIÇÃO DA VARIÁVEL ALVO"
      ],
      "metadata": {
        "id": "oUXu2Rpn1m3J"
      }
    },
    {
      "cell_type": "code",
      "source": [
        "target_variable = 'round_winner'"
      ],
      "metadata": {
        "id": "sn3Jefi71m-I"
      },
      "execution_count": 5,
      "outputs": []
    },
    {
      "cell_type": "markdown",
      "source": [
        "REMOVENDO A COLUNA MAP"
      ],
      "metadata": {
        "id": "7EjObKL41nFT"
      }
    },
    {
      "cell_type": "code",
      "source": [
        "csgo_data.drop(['map'], axis=1, inplace=True)"
      ],
      "metadata": {
        "id": "FPTIqhzF1nML"
      },
      "execution_count": 6,
      "outputs": []
    },
    {
      "cell_type": "markdown",
      "source": [
        "SEPARAÇÃO DE FEATURES E TAGS"
      ],
      "metadata": {
        "id": "ybZnt9vn1nUf"
      }
    },
    {
      "cell_type": "code",
      "source": [
        "X = csgo_data.drop(target_variable, axis=1)\n",
        "y = csgo_data[target_variable]"
      ],
      "metadata": {
        "id": "V21lhtqF1nb3"
      },
      "execution_count": 7,
      "outputs": []
    },
    {
      "cell_type": "markdown",
      "source": [
        "DIVISÃO DO CONJUNTO DE DADOS"
      ],
      "metadata": {
        "id": "1KER7W7g1njD"
      }
    },
    {
      "cell_type": "code",
      "source": [
        "X_train, X_test, y_train, y_test = train_test_split(X, y, test_size=0.25, random_state=42)\n"
      ],
      "metadata": {
        "id": "1dsaK2HZ1nq0"
      },
      "execution_count": 8,
      "outputs": []
    },
    {
      "cell_type": "markdown",
      "source": [
        "DEFINIÇÃO DE TRANSFORMAÇÕES PARA DADOS NUMÉRICOS E CATEGÓRICOS"
      ],
      "metadata": {
        "id": "Evpyqfao1nxG"
      }
    },
    {
      "cell_type": "code",
      "source": [
        "numeric_features = X.select_dtypes(include=['number']).columns\n",
        "categorical_features = X.select_dtypes(include=['object']).columns\n",
        "\n",
        "numeric_transformer = Pipeline(steps=[\n",
        "    ('imputer', SimpleImputer(strategy='mean')),\n",
        "    ('scaler', StandardScaler())\n",
        "])\n",
        "\n",
        "categorical_transformer = Pipeline(steps=[\n",
        "    ('imputer', SimpleImputer(strategy='most_frequent')),\n",
        "    ('onehot', OneHotEncoder())\n",
        "])\n",
        "\n",
        "# Aplicar transformações\n",
        "preprocessor = ColumnTransformer(\n",
        "    transformers=[\n",
        "        ('num', numeric_transformer, numeric_features),\n",
        "        ('cat', categorical_transformer, categorical_features)\n",
        "    ])\n"
      ],
      "metadata": {
        "id": "lJRi1lx31n38"
      },
      "execution_count": 9,
      "outputs": []
    },
    {
      "cell_type": "markdown",
      "source": [
        "TRANSFORMANDO DADOS DE TREINO E TESTE"
      ],
      "metadata": {
        "id": "9KnLjUbe1n-7"
      }
    },
    {
      "cell_type": "code",
      "source": [
        "X_train_transformed = preprocessor.fit_transform(X_train)\n",
        "X_test_transformed = preprocessor.transform(X_test)"
      ],
      "metadata": {
        "id": "LNBvLvbW1oFj"
      },
      "execution_count": 10,
      "outputs": []
    },
    {
      "cell_type": "markdown",
      "source": [
        "CONFIGURANDO O AMBIENTE DO PYCARET"
      ],
      "metadata": {
        "id": "dwdBhSlH2knx"
      }
    },
    {
      "cell_type": "code",
      "source": [
        "clf1 = setup(data=pd.concat([X_train, y_train], axis=1), target=target_variable, session_id=42)"
      ],
      "metadata": {
        "colab": {
          "base_uri": "https://localhost:8080/",
          "height": 677
        },
        "id": "18dwcQLs2kvQ",
        "outputId": "f077fb22-15f4-4ba8-96fb-d76d44dec067"
      },
      "execution_count": 11,
      "outputs": [
        {
          "output_type": "display_data",
          "data": {
            "text/plain": [
              "<pandas.io.formats.style.Styler at 0x784f343a28c0>"
            ],
            "text/html": [
              "<style type=\"text/css\">\n",
              "#T_07bb8_row9_col1 {\n",
              "  background-color: lightgreen;\n",
              "}\n",
              "</style>\n",
              "<table id=\"T_07bb8\" class=\"dataframe\">\n",
              "  <thead>\n",
              "    <tr>\n",
              "      <th class=\"blank level0\" >&nbsp;</th>\n",
              "      <th id=\"T_07bb8_level0_col0\" class=\"col_heading level0 col0\" >Description</th>\n",
              "      <th id=\"T_07bb8_level0_col1\" class=\"col_heading level0 col1\" >Value</th>\n",
              "    </tr>\n",
              "  </thead>\n",
              "  <tbody>\n",
              "    <tr>\n",
              "      <th id=\"T_07bb8_level0_row0\" class=\"row_heading level0 row0\" >0</th>\n",
              "      <td id=\"T_07bb8_row0_col0\" class=\"data row0 col0\" >Session id</td>\n",
              "      <td id=\"T_07bb8_row0_col1\" class=\"data row0 col1\" >42</td>\n",
              "    </tr>\n",
              "    <tr>\n",
              "      <th id=\"T_07bb8_level0_row1\" class=\"row_heading level0 row1\" >1</th>\n",
              "      <td id=\"T_07bb8_row1_col0\" class=\"data row1 col0\" >Target</td>\n",
              "      <td id=\"T_07bb8_row1_col1\" class=\"data row1 col1\" >round_winner</td>\n",
              "    </tr>\n",
              "    <tr>\n",
              "      <th id=\"T_07bb8_level0_row2\" class=\"row_heading level0 row2\" >2</th>\n",
              "      <td id=\"T_07bb8_row2_col0\" class=\"data row2 col0\" >Target type</td>\n",
              "      <td id=\"T_07bb8_row2_col1\" class=\"data row2 col1\" >Binary</td>\n",
              "    </tr>\n",
              "    <tr>\n",
              "      <th id=\"T_07bb8_level0_row3\" class=\"row_heading level0 row3\" >3</th>\n",
              "      <td id=\"T_07bb8_row3_col0\" class=\"data row3 col0\" >Target mapping</td>\n",
              "      <td id=\"T_07bb8_row3_col1\" class=\"data row3 col1\" >CT: 0, T: 1</td>\n",
              "    </tr>\n",
              "    <tr>\n",
              "      <th id=\"T_07bb8_level0_row4\" class=\"row_heading level0 row4\" >4</th>\n",
              "      <td id=\"T_07bb8_row4_col0\" class=\"data row4 col0\" >Original data shape</td>\n",
              "      <td id=\"T_07bb8_row4_col1\" class=\"data row4 col1\" >(91807, 93)</td>\n",
              "    </tr>\n",
              "    <tr>\n",
              "      <th id=\"T_07bb8_level0_row5\" class=\"row_heading level0 row5\" >5</th>\n",
              "      <td id=\"T_07bb8_row5_col0\" class=\"data row5 col0\" >Transformed data shape</td>\n",
              "      <td id=\"T_07bb8_row5_col1\" class=\"data row5 col1\" >(91807, 93)</td>\n",
              "    </tr>\n",
              "    <tr>\n",
              "      <th id=\"T_07bb8_level0_row6\" class=\"row_heading level0 row6\" >6</th>\n",
              "      <td id=\"T_07bb8_row6_col0\" class=\"data row6 col0\" >Transformed train set shape</td>\n",
              "      <td id=\"T_07bb8_row6_col1\" class=\"data row6 col1\" >(64264, 93)</td>\n",
              "    </tr>\n",
              "    <tr>\n",
              "      <th id=\"T_07bb8_level0_row7\" class=\"row_heading level0 row7\" >7</th>\n",
              "      <td id=\"T_07bb8_row7_col0\" class=\"data row7 col0\" >Transformed test set shape</td>\n",
              "      <td id=\"T_07bb8_row7_col1\" class=\"data row7 col1\" >(27543, 93)</td>\n",
              "    </tr>\n",
              "    <tr>\n",
              "      <th id=\"T_07bb8_level0_row8\" class=\"row_heading level0 row8\" >8</th>\n",
              "      <td id=\"T_07bb8_row8_col0\" class=\"data row8 col0\" >Numeric features</td>\n",
              "      <td id=\"T_07bb8_row8_col1\" class=\"data row8 col1\" >92</td>\n",
              "    </tr>\n",
              "    <tr>\n",
              "      <th id=\"T_07bb8_level0_row9\" class=\"row_heading level0 row9\" >9</th>\n",
              "      <td id=\"T_07bb8_row9_col0\" class=\"data row9 col0\" >Preprocess</td>\n",
              "      <td id=\"T_07bb8_row9_col1\" class=\"data row9 col1\" >True</td>\n",
              "    </tr>\n",
              "    <tr>\n",
              "      <th id=\"T_07bb8_level0_row10\" class=\"row_heading level0 row10\" >10</th>\n",
              "      <td id=\"T_07bb8_row10_col0\" class=\"data row10 col0\" >Imputation type</td>\n",
              "      <td id=\"T_07bb8_row10_col1\" class=\"data row10 col1\" >simple</td>\n",
              "    </tr>\n",
              "    <tr>\n",
              "      <th id=\"T_07bb8_level0_row11\" class=\"row_heading level0 row11\" >11</th>\n",
              "      <td id=\"T_07bb8_row11_col0\" class=\"data row11 col0\" >Numeric imputation</td>\n",
              "      <td id=\"T_07bb8_row11_col1\" class=\"data row11 col1\" >mean</td>\n",
              "    </tr>\n",
              "    <tr>\n",
              "      <th id=\"T_07bb8_level0_row12\" class=\"row_heading level0 row12\" >12</th>\n",
              "      <td id=\"T_07bb8_row12_col0\" class=\"data row12 col0\" >Categorical imputation</td>\n",
              "      <td id=\"T_07bb8_row12_col1\" class=\"data row12 col1\" >mode</td>\n",
              "    </tr>\n",
              "    <tr>\n",
              "      <th id=\"T_07bb8_level0_row13\" class=\"row_heading level0 row13\" >13</th>\n",
              "      <td id=\"T_07bb8_row13_col0\" class=\"data row13 col0\" >Fold Generator</td>\n",
              "      <td id=\"T_07bb8_row13_col1\" class=\"data row13 col1\" >StratifiedKFold</td>\n",
              "    </tr>\n",
              "    <tr>\n",
              "      <th id=\"T_07bb8_level0_row14\" class=\"row_heading level0 row14\" >14</th>\n",
              "      <td id=\"T_07bb8_row14_col0\" class=\"data row14 col0\" >Fold Number</td>\n",
              "      <td id=\"T_07bb8_row14_col1\" class=\"data row14 col1\" >10</td>\n",
              "    </tr>\n",
              "    <tr>\n",
              "      <th id=\"T_07bb8_level0_row15\" class=\"row_heading level0 row15\" >15</th>\n",
              "      <td id=\"T_07bb8_row15_col0\" class=\"data row15 col0\" >CPU Jobs</td>\n",
              "      <td id=\"T_07bb8_row15_col1\" class=\"data row15 col1\" >-1</td>\n",
              "    </tr>\n",
              "    <tr>\n",
              "      <th id=\"T_07bb8_level0_row16\" class=\"row_heading level0 row16\" >16</th>\n",
              "      <td id=\"T_07bb8_row16_col0\" class=\"data row16 col0\" >Use GPU</td>\n",
              "      <td id=\"T_07bb8_row16_col1\" class=\"data row16 col1\" >False</td>\n",
              "    </tr>\n",
              "    <tr>\n",
              "      <th id=\"T_07bb8_level0_row17\" class=\"row_heading level0 row17\" >17</th>\n",
              "      <td id=\"T_07bb8_row17_col0\" class=\"data row17 col0\" >Log Experiment</td>\n",
              "      <td id=\"T_07bb8_row17_col1\" class=\"data row17 col1\" >False</td>\n",
              "    </tr>\n",
              "    <tr>\n",
              "      <th id=\"T_07bb8_level0_row18\" class=\"row_heading level0 row18\" >18</th>\n",
              "      <td id=\"T_07bb8_row18_col0\" class=\"data row18 col0\" >Experiment Name</td>\n",
              "      <td id=\"T_07bb8_row18_col1\" class=\"data row18 col1\" >clf-default-name</td>\n",
              "    </tr>\n",
              "    <tr>\n",
              "      <th id=\"T_07bb8_level0_row19\" class=\"row_heading level0 row19\" >19</th>\n",
              "      <td id=\"T_07bb8_row19_col0\" class=\"data row19 col0\" >USI</td>\n",
              "      <td id=\"T_07bb8_row19_col1\" class=\"data row19 col1\" >3d07</td>\n",
              "    </tr>\n",
              "  </tbody>\n",
              "</table>\n"
            ]
          },
          "metadata": {}
        }
      ]
    },
    {
      "cell_type": "markdown",
      "source": [
        "COMPARANDO MODELOS E AVALIANDO DESEMPENHO"
      ],
      "metadata": {
        "id": "VyU2RgIO2lDG"
      }
    },
    {
      "cell_type": "code",
      "source": [
        "best_model = compare_models()"
      ],
      "metadata": {
        "colab": {
          "base_uri": "https://localhost:8080/",
          "height": 520,
          "referenced_widgets": [
            "8609c234b76e4e15accf6c2d342bfd2b",
            "88036aae7ec44be7ac48d4fafa23e71e",
            "f74f5dc555c04a26ab6e23271e1e20bf",
            "ddbc070843424b699113e5c7fd63663f",
            "27935b8f59c44bc6b4e799bdc5a7a739",
            "eb12fe72fd5e46cdac94da25cbd31c29",
            "97832a31f28d4a2cba5236743a4dfec0",
            "ab2e5d3eff954992beffb2caca8b7dfc",
            "343479ae1b9f411b83183d8fde60cbdd",
            "40e0ab5b77f3407f8fef293d520a53b2",
            "2b85345e9d884d678c33afa0a2183d00"
          ]
        },
        "id": "2S25nPkc2k8z",
        "outputId": "690b12c3-43fe-49f2-9eb3-df51ec822a28"
      },
      "execution_count": 12,
      "outputs": [
        {
          "output_type": "display_data",
          "data": {
            "text/plain": [
              "<IPython.core.display.HTML object>"
            ],
            "text/html": []
          },
          "metadata": {}
        },
        {
          "output_type": "display_data",
          "data": {
            "text/plain": [
              "<pandas.io.formats.style.Styler at 0x784f3eaeb130>"
            ],
            "text/html": [
              "<style type=\"text/css\">\n",
              "#T_f9a95 th {\n",
              "  text-align: left;\n",
              "}\n",
              "#T_f9a95_row0_col0, #T_f9a95_row1_col0, #T_f9a95_row1_col1, #T_f9a95_row1_col2, #T_f9a95_row1_col3, #T_f9a95_row1_col4, #T_f9a95_row1_col5, #T_f9a95_row1_col6, #T_f9a95_row1_col7, #T_f9a95_row2_col0, #T_f9a95_row2_col1, #T_f9a95_row2_col2, #T_f9a95_row2_col3, #T_f9a95_row2_col4, #T_f9a95_row2_col5, #T_f9a95_row2_col6, #T_f9a95_row2_col7, #T_f9a95_row3_col0, #T_f9a95_row3_col1, #T_f9a95_row3_col2, #T_f9a95_row3_col3, #T_f9a95_row3_col4, #T_f9a95_row3_col5, #T_f9a95_row3_col6, #T_f9a95_row3_col7, #T_f9a95_row4_col0, #T_f9a95_row4_col1, #T_f9a95_row4_col2, #T_f9a95_row4_col3, #T_f9a95_row4_col4, #T_f9a95_row4_col5, #T_f9a95_row4_col6, #T_f9a95_row4_col7, #T_f9a95_row5_col0, #T_f9a95_row5_col1, #T_f9a95_row5_col2, #T_f9a95_row5_col3, #T_f9a95_row5_col4, #T_f9a95_row5_col5, #T_f9a95_row5_col6, #T_f9a95_row5_col7, #T_f9a95_row6_col0, #T_f9a95_row6_col1, #T_f9a95_row6_col2, #T_f9a95_row6_col3, #T_f9a95_row6_col4, #T_f9a95_row6_col5, #T_f9a95_row6_col6, #T_f9a95_row6_col7, #T_f9a95_row7_col0, #T_f9a95_row7_col1, #T_f9a95_row7_col2, #T_f9a95_row7_col3, #T_f9a95_row7_col4, #T_f9a95_row7_col5, #T_f9a95_row7_col6, #T_f9a95_row7_col7, #T_f9a95_row8_col0, #T_f9a95_row8_col1, #T_f9a95_row8_col2, #T_f9a95_row8_col3, #T_f9a95_row8_col4, #T_f9a95_row8_col5, #T_f9a95_row8_col6, #T_f9a95_row8_col7, #T_f9a95_row9_col0, #T_f9a95_row9_col1, #T_f9a95_row9_col2, #T_f9a95_row9_col3, #T_f9a95_row9_col4, #T_f9a95_row9_col5, #T_f9a95_row9_col6, #T_f9a95_row9_col7, #T_f9a95_row10_col0, #T_f9a95_row10_col1, #T_f9a95_row10_col2, #T_f9a95_row10_col3, #T_f9a95_row10_col4, #T_f9a95_row10_col5, #T_f9a95_row10_col6, #T_f9a95_row10_col7, #T_f9a95_row11_col0, #T_f9a95_row11_col1, #T_f9a95_row11_col2, #T_f9a95_row11_col3, #T_f9a95_row11_col4, #T_f9a95_row11_col5, #T_f9a95_row11_col6, #T_f9a95_row11_col7, #T_f9a95_row12_col0, #T_f9a95_row12_col1, #T_f9a95_row12_col2, #T_f9a95_row12_col3, #T_f9a95_row12_col4, #T_f9a95_row12_col5, #T_f9a95_row12_col6, #T_f9a95_row12_col7, #T_f9a95_row13_col0, #T_f9a95_row13_col1, #T_f9a95_row13_col2, #T_f9a95_row13_col3, #T_f9a95_row13_col4, #T_f9a95_row13_col5, #T_f9a95_row13_col6, #T_f9a95_row13_col7, #T_f9a95_row14_col0, #T_f9a95_row14_col1, #T_f9a95_row14_col2, #T_f9a95_row14_col3, #T_f9a95_row14_col4, #T_f9a95_row14_col5, #T_f9a95_row14_col6, #T_f9a95_row14_col7 {\n",
              "  text-align: left;\n",
              "}\n",
              "#T_f9a95_row0_col1, #T_f9a95_row0_col2, #T_f9a95_row0_col3, #T_f9a95_row0_col4, #T_f9a95_row0_col5, #T_f9a95_row0_col6, #T_f9a95_row0_col7 {\n",
              "  text-align: left;\n",
              "  background-color: yellow;\n",
              "}\n",
              "#T_f9a95_row0_col8, #T_f9a95_row1_col8, #T_f9a95_row2_col8, #T_f9a95_row3_col8, #T_f9a95_row4_col8, #T_f9a95_row5_col8, #T_f9a95_row6_col8, #T_f9a95_row7_col8, #T_f9a95_row8_col8, #T_f9a95_row9_col8, #T_f9a95_row10_col8, #T_f9a95_row11_col8, #T_f9a95_row12_col8, #T_f9a95_row13_col8 {\n",
              "  text-align: left;\n",
              "  background-color: lightgrey;\n",
              "}\n",
              "#T_f9a95_row14_col8 {\n",
              "  text-align: left;\n",
              "  background-color: yellow;\n",
              "  background-color: lightgrey;\n",
              "}\n",
              "</style>\n",
              "<table id=\"T_f9a95\" class=\"dataframe\">\n",
              "  <thead>\n",
              "    <tr>\n",
              "      <th class=\"blank level0\" >&nbsp;</th>\n",
              "      <th id=\"T_f9a95_level0_col0\" class=\"col_heading level0 col0\" >Model</th>\n",
              "      <th id=\"T_f9a95_level0_col1\" class=\"col_heading level0 col1\" >Accuracy</th>\n",
              "      <th id=\"T_f9a95_level0_col2\" class=\"col_heading level0 col2\" >AUC</th>\n",
              "      <th id=\"T_f9a95_level0_col3\" class=\"col_heading level0 col3\" >Recall</th>\n",
              "      <th id=\"T_f9a95_level0_col4\" class=\"col_heading level0 col4\" >Prec.</th>\n",
              "      <th id=\"T_f9a95_level0_col5\" class=\"col_heading level0 col5\" >F1</th>\n",
              "      <th id=\"T_f9a95_level0_col6\" class=\"col_heading level0 col6\" >Kappa</th>\n",
              "      <th id=\"T_f9a95_level0_col7\" class=\"col_heading level0 col7\" >MCC</th>\n",
              "      <th id=\"T_f9a95_level0_col8\" class=\"col_heading level0 col8\" >TT (Sec)</th>\n",
              "    </tr>\n",
              "  </thead>\n",
              "  <tbody>\n",
              "    <tr>\n",
              "      <th id=\"T_f9a95_level0_row0\" class=\"row_heading level0 row0\" >et</th>\n",
              "      <td id=\"T_f9a95_row0_col0\" class=\"data row0 col0\" >Extra Trees Classifier</td>\n",
              "      <td id=\"T_f9a95_row0_col1\" class=\"data row0 col1\" >0.8469</td>\n",
              "      <td id=\"T_f9a95_row0_col2\" class=\"data row0 col2\" >0.9296</td>\n",
              "      <td id=\"T_f9a95_row0_col3\" class=\"data row0 col3\" >0.8469</td>\n",
              "      <td id=\"T_f9a95_row0_col4\" class=\"data row0 col4\" >0.8473</td>\n",
              "      <td id=\"T_f9a95_row0_col5\" class=\"data row0 col5\" >0.8469</td>\n",
              "      <td id=\"T_f9a95_row0_col6\" class=\"data row0 col6\" >0.6938</td>\n",
              "      <td id=\"T_f9a95_row0_col7\" class=\"data row0 col7\" >0.6941</td>\n",
              "      <td id=\"T_f9a95_row0_col8\" class=\"data row0 col8\" >15.7390</td>\n",
              "    </tr>\n",
              "    <tr>\n",
              "      <th id=\"T_f9a95_level0_row1\" class=\"row_heading level0 row1\" >rf</th>\n",
              "      <td id=\"T_f9a95_row1_col0\" class=\"data row1 col0\" >Random Forest Classifier</td>\n",
              "      <td id=\"T_f9a95_row1_col1\" class=\"data row1 col1\" >0.8424</td>\n",
              "      <td id=\"T_f9a95_row1_col2\" class=\"data row1 col2\" >0.9258</td>\n",
              "      <td id=\"T_f9a95_row1_col3\" class=\"data row1 col3\" >0.8424</td>\n",
              "      <td id=\"T_f9a95_row1_col4\" class=\"data row1 col4\" >0.8428</td>\n",
              "      <td id=\"T_f9a95_row1_col5\" class=\"data row1 col5\" >0.8424</td>\n",
              "      <td id=\"T_f9a95_row1_col6\" class=\"data row1 col6\" >0.6848</td>\n",
              "      <td id=\"T_f9a95_row1_col7\" class=\"data row1 col7\" >0.6851</td>\n",
              "      <td id=\"T_f9a95_row1_col8\" class=\"data row1 col8\" >12.7780</td>\n",
              "    </tr>\n",
              "    <tr>\n",
              "      <th id=\"T_f9a95_level0_row2\" class=\"row_heading level0 row2\" >xgboost</th>\n",
              "      <td id=\"T_f9a95_row2_col0\" class=\"data row2 col0\" >Extreme Gradient Boosting</td>\n",
              "      <td id=\"T_f9a95_row2_col1\" class=\"data row2 col1\" >0.7887</td>\n",
              "      <td id=\"T_f9a95_row2_col2\" class=\"data row2 col2\" >0.8868</td>\n",
              "      <td id=\"T_f9a95_row2_col3\" class=\"data row2 col3\" >0.7887</td>\n",
              "      <td id=\"T_f9a95_row2_col4\" class=\"data row2 col4\" >0.7892</td>\n",
              "      <td id=\"T_f9a95_row2_col5\" class=\"data row2 col5\" >0.7888</td>\n",
              "      <td id=\"T_f9a95_row2_col6\" class=\"data row2 col6\" >0.5776</td>\n",
              "      <td id=\"T_f9a95_row2_col7\" class=\"data row2 col7\" >0.5780</td>\n",
              "      <td id=\"T_f9a95_row2_col8\" class=\"data row2 col8\" >2.6240</td>\n",
              "    </tr>\n",
              "    <tr>\n",
              "      <th id=\"T_f9a95_level0_row3\" class=\"row_heading level0 row3\" >dt</th>\n",
              "      <td id=\"T_f9a95_row3_col0\" class=\"data row3 col0\" >Decision Tree Classifier</td>\n",
              "      <td id=\"T_f9a95_row3_col1\" class=\"data row3 col1\" >0.7799</td>\n",
              "      <td id=\"T_f9a95_row3_col2\" class=\"data row3 col2\" >0.7819</td>\n",
              "      <td id=\"T_f9a95_row3_col3\" class=\"data row3 col3\" >0.7799</td>\n",
              "      <td id=\"T_f9a95_row3_col4\" class=\"data row3 col4\" >0.7799</td>\n",
              "      <td id=\"T_f9a95_row3_col5\" class=\"data row3 col5\" >0.7799</td>\n",
              "      <td id=\"T_f9a95_row3_col6\" class=\"data row3 col6\" >0.5596</td>\n",
              "      <td id=\"T_f9a95_row3_col7\" class=\"data row3 col7\" >0.5596</td>\n",
              "      <td id=\"T_f9a95_row3_col8\" class=\"data row3 col8\" >1.5860</td>\n",
              "    </tr>\n",
              "    <tr>\n",
              "      <th id=\"T_f9a95_level0_row4\" class=\"row_heading level0 row4\" >lightgbm</th>\n",
              "      <td id=\"T_f9a95_row4_col0\" class=\"data row4 col0\" >Light Gradient Boosting Machine</td>\n",
              "      <td id=\"T_f9a95_row4_col1\" class=\"data row4 col1\" >0.7747</td>\n",
              "      <td id=\"T_f9a95_row4_col2\" class=\"data row4 col2\" >0.8739</td>\n",
              "      <td id=\"T_f9a95_row4_col3\" class=\"data row4 col3\" >0.7747</td>\n",
              "      <td id=\"T_f9a95_row4_col4\" class=\"data row4 col4\" >0.7764</td>\n",
              "      <td id=\"T_f9a95_row4_col5\" class=\"data row4 col5\" >0.7745</td>\n",
              "      <td id=\"T_f9a95_row4_col6\" class=\"data row4 col6\" >0.5498</td>\n",
              "      <td id=\"T_f9a95_row4_col7\" class=\"data row4 col7\" >0.5512</td>\n",
              "      <td id=\"T_f9a95_row4_col8\" class=\"data row4 col8\" >3.9640</td>\n",
              "    </tr>\n",
              "    <tr>\n",
              "      <th id=\"T_f9a95_level0_row5\" class=\"row_heading level0 row5\" >gbc</th>\n",
              "      <td id=\"T_f9a95_row5_col0\" class=\"data row5 col0\" >Gradient Boosting Classifier</td>\n",
              "      <td id=\"T_f9a95_row5_col1\" class=\"data row5 col1\" >0.7520</td>\n",
              "      <td id=\"T_f9a95_row5_col2\" class=\"data row5 col2\" >0.8552</td>\n",
              "      <td id=\"T_f9a95_row5_col3\" class=\"data row5 col3\" >0.7520</td>\n",
              "      <td id=\"T_f9a95_row5_col4\" class=\"data row5 col4\" >0.7566</td>\n",
              "      <td id=\"T_f9a95_row5_col5\" class=\"data row5 col5\" >0.7514</td>\n",
              "      <td id=\"T_f9a95_row5_col6\" class=\"data row5 col6\" >0.5051</td>\n",
              "      <td id=\"T_f9a95_row5_col7\" class=\"data row5 col7\" >0.5090</td>\n",
              "      <td id=\"T_f9a95_row5_col8\" class=\"data row5 col8\" >18.3030</td>\n",
              "    </tr>\n",
              "    <tr>\n",
              "      <th id=\"T_f9a95_level0_row6\" class=\"row_heading level0 row6\" >ridge</th>\n",
              "      <td id=\"T_f9a95_row6_col0\" class=\"data row6 col0\" >Ridge Classifier</td>\n",
              "      <td id=\"T_f9a95_row6_col1\" class=\"data row6 col1\" >0.7471</td>\n",
              "      <td id=\"T_f9a95_row6_col2\" class=\"data row6 col2\" >0.0000</td>\n",
              "      <td id=\"T_f9a95_row6_col3\" class=\"data row6 col3\" >0.7471</td>\n",
              "      <td id=\"T_f9a95_row6_col4\" class=\"data row6 col4\" >0.7479</td>\n",
              "      <td id=\"T_f9a95_row6_col5\" class=\"data row6 col5\" >0.7471</td>\n",
              "      <td id=\"T_f9a95_row6_col6\" class=\"data row6 col6\" >0.4944</td>\n",
              "      <td id=\"T_f9a95_row6_col7\" class=\"data row6 col7\" >0.4950</td>\n",
              "      <td id=\"T_f9a95_row6_col8\" class=\"data row6 col8\" >0.5170</td>\n",
              "    </tr>\n",
              "    <tr>\n",
              "      <th id=\"T_f9a95_level0_row7\" class=\"row_heading level0 row7\" >lda</th>\n",
              "      <td id=\"T_f9a95_row7_col0\" class=\"data row7 col0\" >Linear Discriminant Analysis</td>\n",
              "      <td id=\"T_f9a95_row7_col1\" class=\"data row7 col1\" >0.7471</td>\n",
              "      <td id=\"T_f9a95_row7_col2\" class=\"data row7 col2\" >0.8406</td>\n",
              "      <td id=\"T_f9a95_row7_col3\" class=\"data row7 col3\" >0.7471</td>\n",
              "      <td id=\"T_f9a95_row7_col4\" class=\"data row7 col4\" >0.7479</td>\n",
              "      <td id=\"T_f9a95_row7_col5\" class=\"data row7 col5\" >0.7471</td>\n",
              "      <td id=\"T_f9a95_row7_col6\" class=\"data row7 col6\" >0.4944</td>\n",
              "      <td id=\"T_f9a95_row7_col7\" class=\"data row7 col7\" >0.4950</td>\n",
              "      <td id=\"T_f9a95_row7_col8\" class=\"data row7 col8\" >2.2570</td>\n",
              "    </tr>\n",
              "    <tr>\n",
              "      <th id=\"T_f9a95_level0_row8\" class=\"row_heading level0 row8\" >ada</th>\n",
              "      <td id=\"T_f9a95_row8_col0\" class=\"data row8 col0\" >Ada Boost Classifier</td>\n",
              "      <td id=\"T_f9a95_row8_col1\" class=\"data row8 col1\" >0.7413</td>\n",
              "      <td id=\"T_f9a95_row8_col2\" class=\"data row8 col2\" >0.8395</td>\n",
              "      <td id=\"T_f9a95_row8_col3\" class=\"data row8 col3\" >0.7413</td>\n",
              "      <td id=\"T_f9a95_row8_col4\" class=\"data row8 col4\" >0.7444</td>\n",
              "      <td id=\"T_f9a95_row8_col5\" class=\"data row8 col5\" >0.7408</td>\n",
              "      <td id=\"T_f9a95_row8_col6\" class=\"data row8 col6\" >0.4833</td>\n",
              "      <td id=\"T_f9a95_row8_col7\" class=\"data row8 col7\" >0.4859</td>\n",
              "      <td id=\"T_f9a95_row8_col8\" class=\"data row8 col8\" >4.8880</td>\n",
              "    </tr>\n",
              "    <tr>\n",
              "      <th id=\"T_f9a95_level0_row9\" class=\"row_heading level0 row9\" >lr</th>\n",
              "      <td id=\"T_f9a95_row9_col0\" class=\"data row9 col0\" >Logistic Regression</td>\n",
              "      <td id=\"T_f9a95_row9_col1\" class=\"data row9 col1\" >0.7394</td>\n",
              "      <td id=\"T_f9a95_row9_col2\" class=\"data row9 col2\" >0.8274</td>\n",
              "      <td id=\"T_f9a95_row9_col3\" class=\"data row9 col3\" >0.7394</td>\n",
              "      <td id=\"T_f9a95_row9_col4\" class=\"data row9 col4\" >0.7406</td>\n",
              "      <td id=\"T_f9a95_row9_col5\" class=\"data row9 col5\" >0.7394</td>\n",
              "      <td id=\"T_f9a95_row9_col6\" class=\"data row9 col6\" >0.4792</td>\n",
              "      <td id=\"T_f9a95_row9_col7\" class=\"data row9 col7\" >0.4801</td>\n",
              "      <td id=\"T_f9a95_row9_col8\" class=\"data row9 col8\" >12.7270</td>\n",
              "    </tr>\n",
              "    <tr>\n",
              "      <th id=\"T_f9a95_level0_row10\" class=\"row_heading level0 row10\" >nb</th>\n",
              "      <td id=\"T_f9a95_row10_col0\" class=\"data row10 col0\" >Naive Bayes</td>\n",
              "      <td id=\"T_f9a95_row10_col1\" class=\"data row10 col1\" >0.7233</td>\n",
              "      <td id=\"T_f9a95_row10_col2\" class=\"data row10 col2\" >0.7930</td>\n",
              "      <td id=\"T_f9a95_row10_col3\" class=\"data row10 col3\" >0.7233</td>\n",
              "      <td id=\"T_f9a95_row10_col4\" class=\"data row10 col4\" >0.7235</td>\n",
              "      <td id=\"T_f9a95_row10_col5\" class=\"data row10 col5\" >0.7231</td>\n",
              "      <td id=\"T_f9a95_row10_col6\" class=\"data row10 col6\" >0.4459</td>\n",
              "      <td id=\"T_f9a95_row10_col7\" class=\"data row10 col7\" >0.4464</td>\n",
              "      <td id=\"T_f9a95_row10_col8\" class=\"data row10 col8\" >0.6880</td>\n",
              "    </tr>\n",
              "    <tr>\n",
              "      <th id=\"T_f9a95_level0_row11\" class=\"row_heading level0 row11\" >knn</th>\n",
              "      <td id=\"T_f9a95_row11_col0\" class=\"data row11 col0\" >K Neighbors Classifier</td>\n",
              "      <td id=\"T_f9a95_row11_col1\" class=\"data row11 col1\" >0.6865</td>\n",
              "      <td id=\"T_f9a95_row11_col2\" class=\"data row11 col2\" >0.7491</td>\n",
              "      <td id=\"T_f9a95_row11_col3\" class=\"data row11 col3\" >0.6865</td>\n",
              "      <td id=\"T_f9a95_row11_col4\" class=\"data row11 col4\" >0.6865</td>\n",
              "      <td id=\"T_f9a95_row11_col5\" class=\"data row11 col5\" >0.6865</td>\n",
              "      <td id=\"T_f9a95_row11_col6\" class=\"data row11 col6\" >0.3727</td>\n",
              "      <td id=\"T_f9a95_row11_col7\" class=\"data row11 col7\" >0.3727</td>\n",
              "      <td id=\"T_f9a95_row11_col8\" class=\"data row11 col8\" >8.5900</td>\n",
              "    </tr>\n",
              "    <tr>\n",
              "      <th id=\"T_f9a95_level0_row12\" class=\"row_heading level0 row12\" >svm</th>\n",
              "      <td id=\"T_f9a95_row12_col0\" class=\"data row12 col0\" >SVM - Linear Kernel</td>\n",
              "      <td id=\"T_f9a95_row12_col1\" class=\"data row12 col1\" >0.6082</td>\n",
              "      <td id=\"T_f9a95_row12_col2\" class=\"data row12 col2\" >0.0000</td>\n",
              "      <td id=\"T_f9a95_row12_col3\" class=\"data row12 col3\" >0.6082</td>\n",
              "      <td id=\"T_f9a95_row12_col4\" class=\"data row12 col4\" >0.6712</td>\n",
              "      <td id=\"T_f9a95_row12_col5\" class=\"data row12 col5\" >0.5660</td>\n",
              "      <td id=\"T_f9a95_row12_col6\" class=\"data row12 col6\" >0.2146</td>\n",
              "      <td id=\"T_f9a95_row12_col7\" class=\"data row12 col7\" >0.2658</td>\n",
              "      <td id=\"T_f9a95_row12_col8\" class=\"data row12 col8\" >6.1730</td>\n",
              "    </tr>\n",
              "    <tr>\n",
              "      <th id=\"T_f9a95_level0_row13\" class=\"row_heading level0 row13\" >qda</th>\n",
              "      <td id=\"T_f9a95_row13_col0\" class=\"data row13 col0\" >Quadratic Discriminant Analysis</td>\n",
              "      <td id=\"T_f9a95_row13_col1\" class=\"data row13 col1\" >0.5208</td>\n",
              "      <td id=\"T_f9a95_row13_col2\" class=\"data row13 col2\" >0.5771</td>\n",
              "      <td id=\"T_f9a95_row13_col3\" class=\"data row13 col3\" >0.5208</td>\n",
              "      <td id=\"T_f9a95_row13_col4\" class=\"data row13 col4\" >0.6323</td>\n",
              "      <td id=\"T_f9a95_row13_col5\" class=\"data row13 col5\" >0.3741</td>\n",
              "      <td id=\"T_f9a95_row13_col6\" class=\"data row13 col6\" >0.0221</td>\n",
              "      <td id=\"T_f9a95_row13_col7\" class=\"data row13 col7\" >0.0715</td>\n",
              "      <td id=\"T_f9a95_row13_col8\" class=\"data row13 col8\" >1.1680</td>\n",
              "    </tr>\n",
              "    <tr>\n",
              "      <th id=\"T_f9a95_level0_row14\" class=\"row_heading level0 row14\" >dummy</th>\n",
              "      <td id=\"T_f9a95_row14_col0\" class=\"data row14 col0\" >Dummy Classifier</td>\n",
              "      <td id=\"T_f9a95_row14_col1\" class=\"data row14 col1\" >0.5104</td>\n",
              "      <td id=\"T_f9a95_row14_col2\" class=\"data row14 col2\" >0.5000</td>\n",
              "      <td id=\"T_f9a95_row14_col3\" class=\"data row14 col3\" >0.5104</td>\n",
              "      <td id=\"T_f9a95_row14_col4\" class=\"data row14 col4\" >0.2605</td>\n",
              "      <td id=\"T_f9a95_row14_col5\" class=\"data row14 col5\" >0.3449</td>\n",
              "      <td id=\"T_f9a95_row14_col6\" class=\"data row14 col6\" >0.0000</td>\n",
              "      <td id=\"T_f9a95_row14_col7\" class=\"data row14 col7\" >0.0000</td>\n",
              "      <td id=\"T_f9a95_row14_col8\" class=\"data row14 col8\" >0.4020</td>\n",
              "    </tr>\n",
              "  </tbody>\n",
              "</table>\n"
            ]
          },
          "metadata": {}
        },
        {
          "output_type": "display_data",
          "data": {
            "text/plain": [
              "Processing:   0%|          | 0/65 [00:00<?, ?it/s]"
            ],
            "application/vnd.jupyter.widget-view+json": {
              "version_major": 2,
              "version_minor": 0,
              "model_id": "8609c234b76e4e15accf6c2d342bfd2b"
            }
          },
          "metadata": {
            "application/vnd.jupyter.widget-view+json": {
              "colab": {
                "custom_widget_manager": {
                  "url": "https://ssl.gstatic.com/colaboratory-static/widgets/colab-cdn-widget-manager/b3e629b1971e1542/manager.min.js"
                }
              }
            }
          }
        },
        {
          "output_type": "display_data",
          "data": {
            "text/plain": [
              "<IPython.core.display.HTML object>"
            ],
            "text/html": []
          },
          "metadata": {}
        }
      ]
    },
    {
      "cell_type": "markdown",
      "source": [
        "AVALIANDO O MODELO NO CONJUNTO DE TESTE"
      ],
      "metadata": {
        "id": "rFkjx5Oz2-et"
      }
    },
    {
      "cell_type": "code",
      "source": [
        "evaluate_model(best_model)"
      ],
      "metadata": {
        "colab": {
          "base_uri": "https://localhost:8080/",
          "height": 242,
          "referenced_widgets": [
            "a25abaa112264beba95018a101255913",
            "021563ef2754427491797477afb9ffe9",
            "aca7135c79a3461ab6c2ebcdfcd541ad",
            "2e279a6b107d498f8b5c17f54a92892a",
            "b5d72b260ba443fb8e8e966cda923b06",
            "bd731bb6b12c4372a8b5228a7ef0e92e",
            "0a90fe9d9a404a4ca894653859c84112"
          ]
        },
        "id": "xfkehbpx3EdQ",
        "outputId": "72148345-baff-48cc-e1e0-d4dec696ed7f"
      },
      "execution_count": 13,
      "outputs": [
        {
          "output_type": "display_data",
          "data": {
            "text/plain": [
              "interactive(children=(ToggleButtons(description='Plot Type:', icons=('',), options=(('Pipeline Plot', 'pipelin…"
            ],
            "application/vnd.jupyter.widget-view+json": {
              "version_major": 2,
              "version_minor": 0,
              "model_id": "a25abaa112264beba95018a101255913"
            }
          },
          "metadata": {
            "application/vnd.jupyter.widget-view+json": {
              "colab": {
                "custom_widget_manager": {
                  "url": "https://ssl.gstatic.com/colaboratory-static/widgets/colab-cdn-widget-manager/b3e629b1971e1542/manager.min.js"
                }
              }
            }
          }
        }
      ]
    },
    {
      "cell_type": "markdown",
      "source": [
        "FAZENDO PREVISÕES NO CONJUNTO DE TESTE"
      ],
      "metadata": {
        "id": "AURLPpvd2lyX"
      }
    },
    {
      "cell_type": "code",
      "source": [
        "predictions = predict_model(best_model, data=X_test)"
      ],
      "metadata": {
        "colab": {
          "base_uri": "https://localhost:8080/",
          "height": 17
        },
        "id": "D7_YVtwK3LSK",
        "outputId": "d13ad704-49a4-4c0d-fb7a-db0c43a7c97c"
      },
      "execution_count": 14,
      "outputs": [
        {
          "output_type": "display_data",
          "data": {
            "text/plain": [
              "<IPython.core.display.HTML object>"
            ],
            "text/html": []
          },
          "metadata": {}
        }
      ]
    },
    {
      "cell_type": "markdown",
      "source": [
        "IDENTIFICANDO A COLUNA DE PREVISÕES DINAMICAMENTE"
      ],
      "metadata": {
        "id": "tx8riprH3L1z"
      }
    },
    {
      "cell_type": "code",
      "source": [
        "prediction_column = predictions.columns[predictions.columns.str.contains('Label', case=False)].tolist()\n",
        "if not prediction_column:\n",
        "    raise ValueError(\"Nenhuma coluna de previsão encontrada. Verifique a estrutura da saída do PyCaret.\")\n",
        "else:\n",
        "    prediction_column = prediction_column[0]\n"
      ],
      "metadata": {
        "id": "CfR0ZvAw3P3l"
      },
      "execution_count": 15,
      "outputs": []
    },
    {
      "cell_type": "markdown",
      "source": [
        "AVALIANDO PREVISÕES DE MELHOR TREINAMENTO"
      ],
      "metadata": {
        "id": "ofdGiMc_3SVI"
      }
    },
    {
      "cell_type": "code",
      "source": [
        "rf_accuracy_pycaret = accuracy_score(y_test, predictions[prediction_column])\n",
        "print(f\"Melhor Modelo (PyCaret) Accuracy: {rf_accuracy_pycaret:.2f}\")\n",
        "print(\"Melhor Modelo (PyCaret) Classification Report:\")\n",
        "print(classification_report(y_test, predictions[prediction_column]))"
      ],
      "metadata": {
        "colab": {
          "base_uri": "https://localhost:8080/"
        },
        "id": "_fjPN9FM3Zij",
        "outputId": "8c530b36-8199-440c-e09c-f6089c4c0ad4"
      },
      "execution_count": 16,
      "outputs": [
        {
          "output_type": "stream",
          "name": "stdout",
          "text": [
            "Melhor Modelo (PyCaret) Accuracy: 0.85\n",
            "Melhor Modelo (PyCaret) Classification Report:\n",
            "              precision    recall  f1-score   support\n",
            "\n",
            "          CT       0.85      0.86      0.85     15053\n",
            "           T       0.86      0.85      0.86     15550\n",
            "\n",
            "    accuracy                           0.85     30603\n",
            "   macro avg       0.85      0.85      0.85     30603\n",
            "weighted avg       0.85      0.85      0.85     30603\n",
            "\n"
          ]
        }
      ]
    },
    {
      "cell_type": "markdown",
      "source": [
        "=======================================ETAPA 2======================================="
      ],
      "metadata": {
        "id": "Qsgm1hyCOhLr"
      }
    },
    {
      "cell_type": "markdown",
      "source": [
        "IMPORTAÇÃO DE BIBLIOTECAS"
      ],
      "metadata": {
        "id": "E0gfWddFOrh0"
      }
    },
    {
      "cell_type": "code",
      "source": [
        "import pandas as pd\n",
        "from sklearn.model_selection import train_test_split\n",
        "from sklearn.pipeline import Pipeline\n",
        "from sklearn.compose import ColumnTransformer\n",
        "from sklearn.impute import SimpleImputer\n",
        "from sklearn.preprocessing import StandardScaler, OneHotEncoder\n",
        "from sklearn.ensemble import RandomForestClassifier\n",
        "from sklearn.svm import SVC\n",
        "from sklearn.metrics import accuracy_score, classification_report\n",
        "from pycaret.classification import *\n"
      ],
      "metadata": {
        "id": "h1n279jrOroN"
      },
      "execution_count": 17,
      "outputs": []
    },
    {
      "cell_type": "markdown",
      "source": [
        "CARREGAMENTO DO CONJUNTO DE DADOS"
      ],
      "metadata": {
        "id": "bKsIujDwOrtl"
      }
    },
    {
      "cell_type": "code",
      "source": [
        "url = 'csgo_data/csgo_round_snapshots.xlsx'\n",
        "csgo_data = pd.read_excel(url)"
      ],
      "metadata": {
        "id": "8Bj0aSdKOrzS"
      },
      "execution_count": 18,
      "outputs": []
    },
    {
      "cell_type": "markdown",
      "source": [
        "DIVISÃO DO CONJUNTO DE DADOS"
      ],
      "metadata": {
        "id": "Tm5gQ1BiOr5B"
      }
    },
    {
      "cell_type": "code",
      "source": [
        "X_train, X_test, y_train, y_test = train_test_split(\n",
        "    csgo_data.drop('round_winner', axis=1),\n",
        "    csgo_data['round_winner'],\n",
        "    test_size=0.25,\n",
        "    random_state=42\n",
        ")"
      ],
      "metadata": {
        "id": "sFzYTQFXOr-Y"
      },
      "execution_count": 19,
      "outputs": []
    },
    {
      "cell_type": "markdown",
      "source": [
        "CONFIGURANDO O AMBIENTE DO PYCARET"
      ],
      "metadata": {
        "id": "sMXzeJ4nOsDq"
      }
    },
    {
      "cell_type": "code",
      "source": [
        "clf1 = setup(data=pd.concat([X_train, y_train], axis=1), target='round_winner', session_id=42)"
      ],
      "metadata": {
        "colab": {
          "base_uri": "https://localhost:8080/",
          "height": 771
        },
        "id": "kDPxeHz-OsJq",
        "outputId": "ca80fe09-f781-4a0f-96f8-59ebea535aeb"
      },
      "execution_count": 20,
      "outputs": [
        {
          "output_type": "display_data",
          "data": {
            "text/plain": [
              "<pandas.io.formats.style.Styler at 0x784f34225ff0>"
            ],
            "text/html": [
              "<style type=\"text/css\">\n",
              "#T_aa316_row10_col1 {\n",
              "  background-color: lightgreen;\n",
              "}\n",
              "</style>\n",
              "<table id=\"T_aa316\" class=\"dataframe\">\n",
              "  <thead>\n",
              "    <tr>\n",
              "      <th class=\"blank level0\" >&nbsp;</th>\n",
              "      <th id=\"T_aa316_level0_col0\" class=\"col_heading level0 col0\" >Description</th>\n",
              "      <th id=\"T_aa316_level0_col1\" class=\"col_heading level0 col1\" >Value</th>\n",
              "    </tr>\n",
              "  </thead>\n",
              "  <tbody>\n",
              "    <tr>\n",
              "      <th id=\"T_aa316_level0_row0\" class=\"row_heading level0 row0\" >0</th>\n",
              "      <td id=\"T_aa316_row0_col0\" class=\"data row0 col0\" >Session id</td>\n",
              "      <td id=\"T_aa316_row0_col1\" class=\"data row0 col1\" >42</td>\n",
              "    </tr>\n",
              "    <tr>\n",
              "      <th id=\"T_aa316_level0_row1\" class=\"row_heading level0 row1\" >1</th>\n",
              "      <td id=\"T_aa316_row1_col0\" class=\"data row1 col0\" >Target</td>\n",
              "      <td id=\"T_aa316_row1_col1\" class=\"data row1 col1\" >round_winner</td>\n",
              "    </tr>\n",
              "    <tr>\n",
              "      <th id=\"T_aa316_level0_row2\" class=\"row_heading level0 row2\" >2</th>\n",
              "      <td id=\"T_aa316_row2_col0\" class=\"data row2 col0\" >Target type</td>\n",
              "      <td id=\"T_aa316_row2_col1\" class=\"data row2 col1\" >Binary</td>\n",
              "    </tr>\n",
              "    <tr>\n",
              "      <th id=\"T_aa316_level0_row3\" class=\"row_heading level0 row3\" >3</th>\n",
              "      <td id=\"T_aa316_row3_col0\" class=\"data row3 col0\" >Target mapping</td>\n",
              "      <td id=\"T_aa316_row3_col1\" class=\"data row3 col1\" >CT: 0, T: 1</td>\n",
              "    </tr>\n",
              "    <tr>\n",
              "      <th id=\"T_aa316_level0_row4\" class=\"row_heading level0 row4\" >4</th>\n",
              "      <td id=\"T_aa316_row4_col0\" class=\"data row4 col0\" >Original data shape</td>\n",
              "      <td id=\"T_aa316_row4_col1\" class=\"data row4 col1\" >(91807, 94)</td>\n",
              "    </tr>\n",
              "    <tr>\n",
              "      <th id=\"T_aa316_level0_row5\" class=\"row_heading level0 row5\" >5</th>\n",
              "      <td id=\"T_aa316_row5_col0\" class=\"data row5 col0\" >Transformed data shape</td>\n",
              "      <td id=\"T_aa316_row5_col1\" class=\"data row5 col1\" >(91807, 101)</td>\n",
              "    </tr>\n",
              "    <tr>\n",
              "      <th id=\"T_aa316_level0_row6\" class=\"row_heading level0 row6\" >6</th>\n",
              "      <td id=\"T_aa316_row6_col0\" class=\"data row6 col0\" >Transformed train set shape</td>\n",
              "      <td id=\"T_aa316_row6_col1\" class=\"data row6 col1\" >(64264, 101)</td>\n",
              "    </tr>\n",
              "    <tr>\n",
              "      <th id=\"T_aa316_level0_row7\" class=\"row_heading level0 row7\" >7</th>\n",
              "      <td id=\"T_aa316_row7_col0\" class=\"data row7 col0\" >Transformed test set shape</td>\n",
              "      <td id=\"T_aa316_row7_col1\" class=\"data row7 col1\" >(27543, 101)</td>\n",
              "    </tr>\n",
              "    <tr>\n",
              "      <th id=\"T_aa316_level0_row8\" class=\"row_heading level0 row8\" >8</th>\n",
              "      <td id=\"T_aa316_row8_col0\" class=\"data row8 col0\" >Numeric features</td>\n",
              "      <td id=\"T_aa316_row8_col1\" class=\"data row8 col1\" >92</td>\n",
              "    </tr>\n",
              "    <tr>\n",
              "      <th id=\"T_aa316_level0_row9\" class=\"row_heading level0 row9\" >9</th>\n",
              "      <td id=\"T_aa316_row9_col0\" class=\"data row9 col0\" >Categorical features</td>\n",
              "      <td id=\"T_aa316_row9_col1\" class=\"data row9 col1\" >1</td>\n",
              "    </tr>\n",
              "    <tr>\n",
              "      <th id=\"T_aa316_level0_row10\" class=\"row_heading level0 row10\" >10</th>\n",
              "      <td id=\"T_aa316_row10_col0\" class=\"data row10 col0\" >Preprocess</td>\n",
              "      <td id=\"T_aa316_row10_col1\" class=\"data row10 col1\" >True</td>\n",
              "    </tr>\n",
              "    <tr>\n",
              "      <th id=\"T_aa316_level0_row11\" class=\"row_heading level0 row11\" >11</th>\n",
              "      <td id=\"T_aa316_row11_col0\" class=\"data row11 col0\" >Imputation type</td>\n",
              "      <td id=\"T_aa316_row11_col1\" class=\"data row11 col1\" >simple</td>\n",
              "    </tr>\n",
              "    <tr>\n",
              "      <th id=\"T_aa316_level0_row12\" class=\"row_heading level0 row12\" >12</th>\n",
              "      <td id=\"T_aa316_row12_col0\" class=\"data row12 col0\" >Numeric imputation</td>\n",
              "      <td id=\"T_aa316_row12_col1\" class=\"data row12 col1\" >mean</td>\n",
              "    </tr>\n",
              "    <tr>\n",
              "      <th id=\"T_aa316_level0_row13\" class=\"row_heading level0 row13\" >13</th>\n",
              "      <td id=\"T_aa316_row13_col0\" class=\"data row13 col0\" >Categorical imputation</td>\n",
              "      <td id=\"T_aa316_row13_col1\" class=\"data row13 col1\" >mode</td>\n",
              "    </tr>\n",
              "    <tr>\n",
              "      <th id=\"T_aa316_level0_row14\" class=\"row_heading level0 row14\" >14</th>\n",
              "      <td id=\"T_aa316_row14_col0\" class=\"data row14 col0\" >Maximum one-hot encoding</td>\n",
              "      <td id=\"T_aa316_row14_col1\" class=\"data row14 col1\" >25</td>\n",
              "    </tr>\n",
              "    <tr>\n",
              "      <th id=\"T_aa316_level0_row15\" class=\"row_heading level0 row15\" >15</th>\n",
              "      <td id=\"T_aa316_row15_col0\" class=\"data row15 col0\" >Encoding method</td>\n",
              "      <td id=\"T_aa316_row15_col1\" class=\"data row15 col1\" >None</td>\n",
              "    </tr>\n",
              "    <tr>\n",
              "      <th id=\"T_aa316_level0_row16\" class=\"row_heading level0 row16\" >16</th>\n",
              "      <td id=\"T_aa316_row16_col0\" class=\"data row16 col0\" >Fold Generator</td>\n",
              "      <td id=\"T_aa316_row16_col1\" class=\"data row16 col1\" >StratifiedKFold</td>\n",
              "    </tr>\n",
              "    <tr>\n",
              "      <th id=\"T_aa316_level0_row17\" class=\"row_heading level0 row17\" >17</th>\n",
              "      <td id=\"T_aa316_row17_col0\" class=\"data row17 col0\" >Fold Number</td>\n",
              "      <td id=\"T_aa316_row17_col1\" class=\"data row17 col1\" >10</td>\n",
              "    </tr>\n",
              "    <tr>\n",
              "      <th id=\"T_aa316_level0_row18\" class=\"row_heading level0 row18\" >18</th>\n",
              "      <td id=\"T_aa316_row18_col0\" class=\"data row18 col0\" >CPU Jobs</td>\n",
              "      <td id=\"T_aa316_row18_col1\" class=\"data row18 col1\" >-1</td>\n",
              "    </tr>\n",
              "    <tr>\n",
              "      <th id=\"T_aa316_level0_row19\" class=\"row_heading level0 row19\" >19</th>\n",
              "      <td id=\"T_aa316_row19_col0\" class=\"data row19 col0\" >Use GPU</td>\n",
              "      <td id=\"T_aa316_row19_col1\" class=\"data row19 col1\" >False</td>\n",
              "    </tr>\n",
              "    <tr>\n",
              "      <th id=\"T_aa316_level0_row20\" class=\"row_heading level0 row20\" >20</th>\n",
              "      <td id=\"T_aa316_row20_col0\" class=\"data row20 col0\" >Log Experiment</td>\n",
              "      <td id=\"T_aa316_row20_col1\" class=\"data row20 col1\" >False</td>\n",
              "    </tr>\n",
              "    <tr>\n",
              "      <th id=\"T_aa316_level0_row21\" class=\"row_heading level0 row21\" >21</th>\n",
              "      <td id=\"T_aa316_row21_col0\" class=\"data row21 col0\" >Experiment Name</td>\n",
              "      <td id=\"T_aa316_row21_col1\" class=\"data row21 col1\" >clf-default-name</td>\n",
              "    </tr>\n",
              "    <tr>\n",
              "      <th id=\"T_aa316_level0_row22\" class=\"row_heading level0 row22\" >22</th>\n",
              "      <td id=\"T_aa316_row22_col0\" class=\"data row22 col0\" >USI</td>\n",
              "      <td id=\"T_aa316_row22_col1\" class=\"data row22 col1\" >2dd1</td>\n",
              "    </tr>\n",
              "  </tbody>\n",
              "</table>\n"
            ]
          },
          "metadata": {}
        }
      ]
    },
    {
      "cell_type": "markdown",
      "source": [
        "COMPARANDO MODELOS E AVALIANDO DESEMPENHO"
      ],
      "metadata": {
        "id": "DHH0itJNOsPr"
      }
    },
    {
      "cell_type": "code",
      "source": [
        "best_model = compare_models()"
      ],
      "metadata": {
        "colab": {
          "base_uri": "https://localhost:8080/",
          "height": 520,
          "referenced_widgets": [
            "f7f608e4b9224c219a2e216080f66f5b",
            "e3d87c527a044625a945e96d8f79c959",
            "7c9f93fd375845829b7db9a4fec52e72",
            "7ca3d98928ed43de8389a89fa95979fe",
            "2349cb703b0b44aeaba8ce81469cb529",
            "b4f0f5aa77124c05b9c8de718f673e1f",
            "c58eb484cd324d919cf8aa8972ec7a40",
            "b64bfa5504914c04893247429afb5274",
            "f4c84f6bd5064f9caaad2fb8178ad878",
            "706540dda34e4ab785a65fc426b8953e",
            "96fad154cb2446a9b667c44b375226d9"
          ]
        },
        "id": "L24kDq4KOsVw",
        "outputId": "881bd625-72f0-49d1-da33-f081d7f3bbec"
      },
      "execution_count": 21,
      "outputs": [
        {
          "output_type": "display_data",
          "data": {
            "text/plain": [
              "<IPython.core.display.HTML object>"
            ],
            "text/html": []
          },
          "metadata": {}
        },
        {
          "output_type": "display_data",
          "data": {
            "text/plain": [
              "<pandas.io.formats.style.Styler at 0x784f35800c10>"
            ],
            "text/html": [
              "<style type=\"text/css\">\n",
              "#T_614d2 th {\n",
              "  text-align: left;\n",
              "}\n",
              "#T_614d2_row0_col0, #T_614d2_row1_col0, #T_614d2_row1_col1, #T_614d2_row1_col2, #T_614d2_row1_col3, #T_614d2_row1_col4, #T_614d2_row1_col5, #T_614d2_row1_col6, #T_614d2_row1_col7, #T_614d2_row2_col0, #T_614d2_row2_col1, #T_614d2_row2_col2, #T_614d2_row2_col3, #T_614d2_row2_col4, #T_614d2_row2_col5, #T_614d2_row2_col6, #T_614d2_row2_col7, #T_614d2_row3_col0, #T_614d2_row3_col1, #T_614d2_row3_col2, #T_614d2_row3_col3, #T_614d2_row3_col4, #T_614d2_row3_col5, #T_614d2_row3_col6, #T_614d2_row3_col7, #T_614d2_row4_col0, #T_614d2_row4_col1, #T_614d2_row4_col2, #T_614d2_row4_col3, #T_614d2_row4_col4, #T_614d2_row4_col5, #T_614d2_row4_col6, #T_614d2_row4_col7, #T_614d2_row5_col0, #T_614d2_row5_col1, #T_614d2_row5_col2, #T_614d2_row5_col3, #T_614d2_row5_col4, #T_614d2_row5_col5, #T_614d2_row5_col6, #T_614d2_row5_col7, #T_614d2_row6_col0, #T_614d2_row6_col1, #T_614d2_row6_col2, #T_614d2_row6_col3, #T_614d2_row6_col4, #T_614d2_row6_col5, #T_614d2_row6_col6, #T_614d2_row6_col7, #T_614d2_row7_col0, #T_614d2_row7_col1, #T_614d2_row7_col2, #T_614d2_row7_col3, #T_614d2_row7_col4, #T_614d2_row7_col5, #T_614d2_row7_col6, #T_614d2_row7_col7, #T_614d2_row8_col0, #T_614d2_row8_col1, #T_614d2_row8_col2, #T_614d2_row8_col3, #T_614d2_row8_col4, #T_614d2_row8_col5, #T_614d2_row8_col6, #T_614d2_row8_col7, #T_614d2_row9_col0, #T_614d2_row9_col1, #T_614d2_row9_col2, #T_614d2_row9_col3, #T_614d2_row9_col4, #T_614d2_row9_col5, #T_614d2_row9_col6, #T_614d2_row9_col7, #T_614d2_row10_col0, #T_614d2_row10_col1, #T_614d2_row10_col2, #T_614d2_row10_col3, #T_614d2_row10_col4, #T_614d2_row10_col5, #T_614d2_row10_col6, #T_614d2_row10_col7, #T_614d2_row11_col0, #T_614d2_row11_col1, #T_614d2_row11_col2, #T_614d2_row11_col3, #T_614d2_row11_col4, #T_614d2_row11_col5, #T_614d2_row11_col6, #T_614d2_row11_col7, #T_614d2_row12_col0, #T_614d2_row12_col1, #T_614d2_row12_col2, #T_614d2_row12_col3, #T_614d2_row12_col4, #T_614d2_row12_col5, #T_614d2_row12_col6, #T_614d2_row12_col7, #T_614d2_row13_col0, #T_614d2_row13_col1, #T_614d2_row13_col2, #T_614d2_row13_col3, #T_614d2_row13_col4, #T_614d2_row13_col5, #T_614d2_row13_col6, #T_614d2_row13_col7, #T_614d2_row14_col0, #T_614d2_row14_col1, #T_614d2_row14_col2, #T_614d2_row14_col3, #T_614d2_row14_col4, #T_614d2_row14_col5, #T_614d2_row14_col6, #T_614d2_row14_col7 {\n",
              "  text-align: left;\n",
              "}\n",
              "#T_614d2_row0_col1, #T_614d2_row0_col2, #T_614d2_row0_col3, #T_614d2_row0_col4, #T_614d2_row0_col5, #T_614d2_row0_col6, #T_614d2_row0_col7 {\n",
              "  text-align: left;\n",
              "  background-color: yellow;\n",
              "}\n",
              "#T_614d2_row0_col8, #T_614d2_row1_col8, #T_614d2_row2_col8, #T_614d2_row3_col8, #T_614d2_row4_col8, #T_614d2_row5_col8, #T_614d2_row6_col8, #T_614d2_row7_col8, #T_614d2_row8_col8, #T_614d2_row9_col8, #T_614d2_row10_col8, #T_614d2_row11_col8, #T_614d2_row12_col8, #T_614d2_row13_col8 {\n",
              "  text-align: left;\n",
              "  background-color: lightgrey;\n",
              "}\n",
              "#T_614d2_row14_col8 {\n",
              "  text-align: left;\n",
              "  background-color: yellow;\n",
              "  background-color: lightgrey;\n",
              "}\n",
              "</style>\n",
              "<table id=\"T_614d2\" class=\"dataframe\">\n",
              "  <thead>\n",
              "    <tr>\n",
              "      <th class=\"blank level0\" >&nbsp;</th>\n",
              "      <th id=\"T_614d2_level0_col0\" class=\"col_heading level0 col0\" >Model</th>\n",
              "      <th id=\"T_614d2_level0_col1\" class=\"col_heading level0 col1\" >Accuracy</th>\n",
              "      <th id=\"T_614d2_level0_col2\" class=\"col_heading level0 col2\" >AUC</th>\n",
              "      <th id=\"T_614d2_level0_col3\" class=\"col_heading level0 col3\" >Recall</th>\n",
              "      <th id=\"T_614d2_level0_col4\" class=\"col_heading level0 col4\" >Prec.</th>\n",
              "      <th id=\"T_614d2_level0_col5\" class=\"col_heading level0 col5\" >F1</th>\n",
              "      <th id=\"T_614d2_level0_col6\" class=\"col_heading level0 col6\" >Kappa</th>\n",
              "      <th id=\"T_614d2_level0_col7\" class=\"col_heading level0 col7\" >MCC</th>\n",
              "      <th id=\"T_614d2_level0_col8\" class=\"col_heading level0 col8\" >TT (Sec)</th>\n",
              "    </tr>\n",
              "  </thead>\n",
              "  <tbody>\n",
              "    <tr>\n",
              "      <th id=\"T_614d2_level0_row0\" class=\"row_heading level0 row0\" >et</th>\n",
              "      <td id=\"T_614d2_row0_col0\" class=\"data row0 col0\" >Extra Trees Classifier</td>\n",
              "      <td id=\"T_614d2_row0_col1\" class=\"data row0 col1\" >0.8590</td>\n",
              "      <td id=\"T_614d2_row0_col2\" class=\"data row0 col2\" >0.9371</td>\n",
              "      <td id=\"T_614d2_row0_col3\" class=\"data row0 col3\" >0.8590</td>\n",
              "      <td id=\"T_614d2_row0_col4\" class=\"data row0 col4\" >0.8594</td>\n",
              "      <td id=\"T_614d2_row0_col5\" class=\"data row0 col5\" >0.8590</td>\n",
              "      <td id=\"T_614d2_row0_col6\" class=\"data row0 col6\" >0.7181</td>\n",
              "      <td id=\"T_614d2_row0_col7\" class=\"data row0 col7\" >0.7183</td>\n",
              "      <td id=\"T_614d2_row0_col8\" class=\"data row0 col8\" >17.3400</td>\n",
              "    </tr>\n",
              "    <tr>\n",
              "      <th id=\"T_614d2_level0_row1\" class=\"row_heading level0 row1\" >rf</th>\n",
              "      <td id=\"T_614d2_row1_col0\" class=\"data row1 col0\" >Random Forest Classifier</td>\n",
              "      <td id=\"T_614d2_row1_col1\" class=\"data row1 col1\" >0.8508</td>\n",
              "      <td id=\"T_614d2_row1_col2\" class=\"data row1 col2\" >0.9317</td>\n",
              "      <td id=\"T_614d2_row1_col3\" class=\"data row1 col3\" >0.8508</td>\n",
              "      <td id=\"T_614d2_row1_col4\" class=\"data row1 col4\" >0.8512</td>\n",
              "      <td id=\"T_614d2_row1_col5\" class=\"data row1 col5\" >0.8508</td>\n",
              "      <td id=\"T_614d2_row1_col6\" class=\"data row1 col6\" >0.7016</td>\n",
              "      <td id=\"T_614d2_row1_col7\" class=\"data row1 col7\" >0.7019</td>\n",
              "      <td id=\"T_614d2_row1_col8\" class=\"data row1 col8\" >13.9550</td>\n",
              "    </tr>\n",
              "    <tr>\n",
              "      <th id=\"T_614d2_level0_row2\" class=\"row_heading level0 row2\" >xgboost</th>\n",
              "      <td id=\"T_614d2_row2_col0\" class=\"data row2 col0\" >Extreme Gradient Boosting</td>\n",
              "      <td id=\"T_614d2_row2_col1\" class=\"data row2 col1\" >0.7968</td>\n",
              "      <td id=\"T_614d2_row2_col2\" class=\"data row2 col2\" >0.8907</td>\n",
              "      <td id=\"T_614d2_row2_col3\" class=\"data row2 col3\" >0.7968</td>\n",
              "      <td id=\"T_614d2_row2_col4\" class=\"data row2 col4\" >0.7973</td>\n",
              "      <td id=\"T_614d2_row2_col5\" class=\"data row2 col5\" >0.7968</td>\n",
              "      <td id=\"T_614d2_row2_col6\" class=\"data row2 col6\" >0.5937</td>\n",
              "      <td id=\"T_614d2_row2_col7\" class=\"data row2 col7\" >0.5941</td>\n",
              "      <td id=\"T_614d2_row2_col8\" class=\"data row2 col8\" >2.8710</td>\n",
              "    </tr>\n",
              "    <tr>\n",
              "      <th id=\"T_614d2_level0_row3\" class=\"row_heading level0 row3\" >dt</th>\n",
              "      <td id=\"T_614d2_row3_col0\" class=\"data row3 col0\" >Decision Tree Classifier</td>\n",
              "      <td id=\"T_614d2_row3_col1\" class=\"data row3 col1\" >0.7852</td>\n",
              "      <td id=\"T_614d2_row3_col2\" class=\"data row3 col2\" >0.7865</td>\n",
              "      <td id=\"T_614d2_row3_col3\" class=\"data row3 col3\" >0.7852</td>\n",
              "      <td id=\"T_614d2_row3_col4\" class=\"data row3 col4\" >0.7852</td>\n",
              "      <td id=\"T_614d2_row3_col5\" class=\"data row3 col5\" >0.7852</td>\n",
              "      <td id=\"T_614d2_row3_col6\" class=\"data row3 col6\" >0.5702</td>\n",
              "      <td id=\"T_614d2_row3_col7\" class=\"data row3 col7\" >0.5702</td>\n",
              "      <td id=\"T_614d2_row3_col8\" class=\"data row3 col8\" >1.9890</td>\n",
              "    </tr>\n",
              "    <tr>\n",
              "      <th id=\"T_614d2_level0_row4\" class=\"row_heading level0 row4\" >lightgbm</th>\n",
              "      <td id=\"T_614d2_row4_col0\" class=\"data row4 col0\" >Light Gradient Boosting Machine</td>\n",
              "      <td id=\"T_614d2_row4_col1\" class=\"data row4 col1\" >0.7792</td>\n",
              "      <td id=\"T_614d2_row4_col2\" class=\"data row4 col2\" >0.8759</td>\n",
              "      <td id=\"T_614d2_row4_col3\" class=\"data row4 col3\" >0.7792</td>\n",
              "      <td id=\"T_614d2_row4_col4\" class=\"data row4 col4\" >0.7806</td>\n",
              "      <td id=\"T_614d2_row4_col5\" class=\"data row4 col5\" >0.7791</td>\n",
              "      <td id=\"T_614d2_row4_col6\" class=\"data row4 col6\" >0.5587</td>\n",
              "      <td id=\"T_614d2_row4_col7\" class=\"data row4 col7\" >0.5599</td>\n",
              "      <td id=\"T_614d2_row4_col8\" class=\"data row4 col8\" >5.1600</td>\n",
              "    </tr>\n",
              "    <tr>\n",
              "      <th id=\"T_614d2_level0_row5\" class=\"row_heading level0 row5\" >gbc</th>\n",
              "      <td id=\"T_614d2_row5_col0\" class=\"data row5 col0\" >Gradient Boosting Classifier</td>\n",
              "      <td id=\"T_614d2_row5_col1\" class=\"data row5 col1\" >0.7554</td>\n",
              "      <td id=\"T_614d2_row5_col2\" class=\"data row5 col2\" >0.8565</td>\n",
              "      <td id=\"T_614d2_row5_col3\" class=\"data row5 col3\" >0.7554</td>\n",
              "      <td id=\"T_614d2_row5_col4\" class=\"data row5 col4\" >0.7590</td>\n",
              "      <td id=\"T_614d2_row5_col5\" class=\"data row5 col5\" >0.7550</td>\n",
              "      <td id=\"T_614d2_row5_col6\" class=\"data row5 col6\" >0.5117</td>\n",
              "      <td id=\"T_614d2_row5_col7\" class=\"data row5 col7\" >0.5147</td>\n",
              "      <td id=\"T_614d2_row5_col8\" class=\"data row5 col8\" >19.9470</td>\n",
              "    </tr>\n",
              "    <tr>\n",
              "      <th id=\"T_614d2_level0_row6\" class=\"row_heading level0 row6\" >ridge</th>\n",
              "      <td id=\"T_614d2_row6_col0\" class=\"data row6 col0\" >Ridge Classifier</td>\n",
              "      <td id=\"T_614d2_row6_col1\" class=\"data row6 col1\" >0.7455</td>\n",
              "      <td id=\"T_614d2_row6_col2\" class=\"data row6 col2\" >0.0000</td>\n",
              "      <td id=\"T_614d2_row6_col3\" class=\"data row6 col3\" >0.7455</td>\n",
              "      <td id=\"T_614d2_row6_col4\" class=\"data row6 col4\" >0.7465</td>\n",
              "      <td id=\"T_614d2_row6_col5\" class=\"data row6 col5\" >0.7454</td>\n",
              "      <td id=\"T_614d2_row6_col6\" class=\"data row6 col6\" >0.4913</td>\n",
              "      <td id=\"T_614d2_row6_col7\" class=\"data row6 col7\" >0.4920</td>\n",
              "      <td id=\"T_614d2_row6_col8\" class=\"data row6 col8\" >1.0230</td>\n",
              "    </tr>\n",
              "    <tr>\n",
              "      <th id=\"T_614d2_level0_row7\" class=\"row_heading level0 row7\" >lda</th>\n",
              "      <td id=\"T_614d2_row7_col0\" class=\"data row7 col0\" >Linear Discriminant Analysis</td>\n",
              "      <td id=\"T_614d2_row7_col1\" class=\"data row7 col1\" >0.7455</td>\n",
              "      <td id=\"T_614d2_row7_col2\" class=\"data row7 col2\" >0.8414</td>\n",
              "      <td id=\"T_614d2_row7_col3\" class=\"data row7 col3\" >0.7455</td>\n",
              "      <td id=\"T_614d2_row7_col4\" class=\"data row7 col4\" >0.7466</td>\n",
              "      <td id=\"T_614d2_row7_col5\" class=\"data row7 col5\" >0.7455</td>\n",
              "      <td id=\"T_614d2_row7_col6\" class=\"data row7 col6\" >0.4914</td>\n",
              "      <td id=\"T_614d2_row7_col7\" class=\"data row7 col7\" >0.4921</td>\n",
              "      <td id=\"T_614d2_row7_col8\" class=\"data row7 col8\" >2.4540</td>\n",
              "    </tr>\n",
              "    <tr>\n",
              "      <th id=\"T_614d2_level0_row8\" class=\"row_heading level0 row8\" >ada</th>\n",
              "      <td id=\"T_614d2_row8_col0\" class=\"data row8 col0\" >Ada Boost Classifier</td>\n",
              "      <td id=\"T_614d2_row8_col1\" class=\"data row8 col1\" >0.7449</td>\n",
              "      <td id=\"T_614d2_row8_col2\" class=\"data row8 col2\" >0.8402</td>\n",
              "      <td id=\"T_614d2_row8_col3\" class=\"data row8 col3\" >0.7449</td>\n",
              "      <td id=\"T_614d2_row8_col4\" class=\"data row8 col4\" >0.7477</td>\n",
              "      <td id=\"T_614d2_row8_col5\" class=\"data row8 col5\" >0.7446</td>\n",
              "      <td id=\"T_614d2_row8_col6\" class=\"data row8 col6\" >0.4907</td>\n",
              "      <td id=\"T_614d2_row8_col7\" class=\"data row8 col7\" >0.4930</td>\n",
              "      <td id=\"T_614d2_row8_col8\" class=\"data row8 col8\" >5.5890</td>\n",
              "    </tr>\n",
              "    <tr>\n",
              "      <th id=\"T_614d2_level0_row9\" class=\"row_heading level0 row9\" >lr</th>\n",
              "      <td id=\"T_614d2_row9_col0\" class=\"data row9 col0\" >Logistic Regression</td>\n",
              "      <td id=\"T_614d2_row9_col1\" class=\"data row9 col1\" >0.7425</td>\n",
              "      <td id=\"T_614d2_row9_col2\" class=\"data row9 col2\" >0.8303</td>\n",
              "      <td id=\"T_614d2_row9_col3\" class=\"data row9 col3\" >0.7425</td>\n",
              "      <td id=\"T_614d2_row9_col4\" class=\"data row9 col4\" >0.7441</td>\n",
              "      <td id=\"T_614d2_row9_col5\" class=\"data row9 col5\" >0.7423</td>\n",
              "      <td id=\"T_614d2_row9_col6\" class=\"data row9 col6\" >0.4855</td>\n",
              "      <td id=\"T_614d2_row9_col7\" class=\"data row9 col7\" >0.4868</td>\n",
              "      <td id=\"T_614d2_row9_col8\" class=\"data row9 col8\" >14.6550</td>\n",
              "    </tr>\n",
              "    <tr>\n",
              "      <th id=\"T_614d2_level0_row10\" class=\"row_heading level0 row10\" >nb</th>\n",
              "      <td id=\"T_614d2_row10_col0\" class=\"data row10 col0\" >Naive Bayes</td>\n",
              "      <td id=\"T_614d2_row10_col1\" class=\"data row10 col1\" >0.7236</td>\n",
              "      <td id=\"T_614d2_row10_col2\" class=\"data row10 col2\" >0.7935</td>\n",
              "      <td id=\"T_614d2_row10_col3\" class=\"data row10 col3\" >0.7236</td>\n",
              "      <td id=\"T_614d2_row10_col4\" class=\"data row10 col4\" >0.7239</td>\n",
              "      <td id=\"T_614d2_row10_col5\" class=\"data row10 col5\" >0.7234</td>\n",
              "      <td id=\"T_614d2_row10_col6\" class=\"data row10 col6\" >0.4465</td>\n",
              "      <td id=\"T_614d2_row10_col7\" class=\"data row10 col7\" >0.4470</td>\n",
              "      <td id=\"T_614d2_row10_col8\" class=\"data row10 col8\" >0.9460</td>\n",
              "    </tr>\n",
              "    <tr>\n",
              "      <th id=\"T_614d2_level0_row11\" class=\"row_heading level0 row11\" >knn</th>\n",
              "      <td id=\"T_614d2_row11_col0\" class=\"data row11 col0\" >K Neighbors Classifier</td>\n",
              "      <td id=\"T_614d2_row11_col1\" class=\"data row11 col1\" >0.6859</td>\n",
              "      <td id=\"T_614d2_row11_col2\" class=\"data row11 col2\" >0.7487</td>\n",
              "      <td id=\"T_614d2_row11_col3\" class=\"data row11 col3\" >0.6859</td>\n",
              "      <td id=\"T_614d2_row11_col4\" class=\"data row11 col4\" >0.6859</td>\n",
              "      <td id=\"T_614d2_row11_col5\" class=\"data row11 col5\" >0.6859</td>\n",
              "      <td id=\"T_614d2_row11_col6\" class=\"data row11 col6\" >0.3715</td>\n",
              "      <td id=\"T_614d2_row11_col7\" class=\"data row11 col7\" >0.3715</td>\n",
              "      <td id=\"T_614d2_row11_col8\" class=\"data row11 col8\" >9.3170</td>\n",
              "    </tr>\n",
              "    <tr>\n",
              "      <th id=\"T_614d2_level0_row12\" class=\"row_heading level0 row12\" >svm</th>\n",
              "      <td id=\"T_614d2_row12_col0\" class=\"data row12 col0\" >SVM - Linear Kernel</td>\n",
              "      <td id=\"T_614d2_row12_col1\" class=\"data row12 col1\" >0.5870</td>\n",
              "      <td id=\"T_614d2_row12_col2\" class=\"data row12 col2\" >0.0000</td>\n",
              "      <td id=\"T_614d2_row12_col3\" class=\"data row12 col3\" >0.5870</td>\n",
              "      <td id=\"T_614d2_row12_col4\" class=\"data row12 col4\" >0.6802</td>\n",
              "      <td id=\"T_614d2_row12_col5\" class=\"data row12 col5\" >0.5275</td>\n",
              "      <td id=\"T_614d2_row12_col6\" class=\"data row12 col6\" >0.1755</td>\n",
              "      <td id=\"T_614d2_row12_col7\" class=\"data row12 col7\" >0.2492</td>\n",
              "      <td id=\"T_614d2_row12_col8\" class=\"data row12 col8\" >7.1280</td>\n",
              "    </tr>\n",
              "    <tr>\n",
              "      <th id=\"T_614d2_level0_row13\" class=\"row_heading level0 row13\" >qda</th>\n",
              "      <td id=\"T_614d2_row13_col0\" class=\"data row13 col0\" >Quadratic Discriminant Analysis</td>\n",
              "      <td id=\"T_614d2_row13_col1\" class=\"data row13 col1\" >0.5195</td>\n",
              "      <td id=\"T_614d2_row13_col2\" class=\"data row13 col2\" >0.5654</td>\n",
              "      <td id=\"T_614d2_row13_col3\" class=\"data row13 col3\" >0.5195</td>\n",
              "      <td id=\"T_614d2_row13_col4\" class=\"data row13 col4\" >0.5396</td>\n",
              "      <td id=\"T_614d2_row13_col5\" class=\"data row13 col5\" >0.3708</td>\n",
              "      <td id=\"T_614d2_row13_col6\" class=\"data row13 col6\" >0.0193</td>\n",
              "      <td id=\"T_614d2_row13_col7\" class=\"data row13 col7\" >0.0542</td>\n",
              "      <td id=\"T_614d2_row13_col8\" class=\"data row13 col8\" >2.1700</td>\n",
              "    </tr>\n",
              "    <tr>\n",
              "      <th id=\"T_614d2_level0_row14\" class=\"row_heading level0 row14\" >dummy</th>\n",
              "      <td id=\"T_614d2_row14_col0\" class=\"data row14 col0\" >Dummy Classifier</td>\n",
              "      <td id=\"T_614d2_row14_col1\" class=\"data row14 col1\" >0.5104</td>\n",
              "      <td id=\"T_614d2_row14_col2\" class=\"data row14 col2\" >0.5000</td>\n",
              "      <td id=\"T_614d2_row14_col3\" class=\"data row14 col3\" >0.5104</td>\n",
              "      <td id=\"T_614d2_row14_col4\" class=\"data row14 col4\" >0.2605</td>\n",
              "      <td id=\"T_614d2_row14_col5\" class=\"data row14 col5\" >0.3449</td>\n",
              "      <td id=\"T_614d2_row14_col6\" class=\"data row14 col6\" >0.0000</td>\n",
              "      <td id=\"T_614d2_row14_col7\" class=\"data row14 col7\" >0.0000</td>\n",
              "      <td id=\"T_614d2_row14_col8\" class=\"data row14 col8\" >0.8260</td>\n",
              "    </tr>\n",
              "  </tbody>\n",
              "</table>\n"
            ]
          },
          "metadata": {}
        },
        {
          "output_type": "display_data",
          "data": {
            "text/plain": [
              "Processing:   0%|          | 0/65 [00:00<?, ?it/s]"
            ],
            "application/vnd.jupyter.widget-view+json": {
              "version_major": 2,
              "version_minor": 0,
              "model_id": "f7f608e4b9224c219a2e216080f66f5b"
            }
          },
          "metadata": {
            "application/vnd.jupyter.widget-view+json": {
              "colab": {
                "custom_widget_manager": {
                  "url": "https://ssl.gstatic.com/colaboratory-static/widgets/colab-cdn-widget-manager/b3e629b1971e1542/manager.min.js"
                }
              }
            }
          }
        },
        {
          "output_type": "display_data",
          "data": {
            "text/plain": [
              "<IPython.core.display.HTML object>"
            ],
            "text/html": []
          },
          "metadata": {}
        }
      ]
    },
    {
      "cell_type": "markdown",
      "source": [
        "AVALIANDO MODELO NO CONJUNTO DE TESTES"
      ],
      "metadata": {
        "id": "8rBWOWgROsal"
      }
    },
    {
      "cell_type": "code",
      "source": [
        "evaluate_model(best_model)"
      ],
      "metadata": {
        "colab": {
          "base_uri": "https://localhost:8080/",
          "height": 223,
          "referenced_widgets": [
            "a7209dc7c7f54ad28e5a2b05984a4d20",
            "4128f3a2a6e04abf85322e286abfc265",
            "ecfdf7cc5e664566bad83a1af0831e58",
            "bff6be5e1bca4a458be9dff1acca9a71",
            "3a579eef74834830a8f3aad5dd9911ae",
            "6e6d8f9ce48f45bca1f543197d10a3e6",
            "4ba7e7dac1d54a21a39bbac164615c10"
          ]
        },
        "id": "KK9qqCyxOsgG",
        "outputId": "7ef711fa-6962-469c-b153-9dc5b9fbbfa4"
      },
      "execution_count": 22,
      "outputs": [
        {
          "output_type": "display_data",
          "data": {
            "text/plain": [
              "interactive(children=(ToggleButtons(description='Plot Type:', icons=('',), options=(('Pipeline Plot', 'pipelin…"
            ],
            "application/vnd.jupyter.widget-view+json": {
              "version_major": 2,
              "version_minor": 0,
              "model_id": "a7209dc7c7f54ad28e5a2b05984a4d20"
            }
          },
          "metadata": {
            "application/vnd.jupyter.widget-view+json": {
              "colab": {
                "custom_widget_manager": {
                  "url": "https://ssl.gstatic.com/colaboratory-static/widgets/colab-cdn-widget-manager/b3e629b1971e1542/manager.min.js"
                }
              }
            }
          }
        }
      ]
    },
    {
      "cell_type": "markdown",
      "source": [
        "FAZER PREVISÕES NO CONJUNTO DE TESTES"
      ],
      "metadata": {
        "id": "87RDSQ-iOsmR"
      }
    },
    {
      "cell_type": "code",
      "source": [
        "predictions = predict_model(best_model, data=X_test)"
      ],
      "metadata": {
        "colab": {
          "base_uri": "https://localhost:8080/",
          "height": 17
        },
        "id": "nank1jCvOssO",
        "outputId": "7ebdcc9b-8fe7-4ca7-89f6-9126823cc6ac"
      },
      "execution_count": 23,
      "outputs": [
        {
          "output_type": "display_data",
          "data": {
            "text/plain": [
              "<IPython.core.display.HTML object>"
            ],
            "text/html": []
          },
          "metadata": {}
        }
      ]
    },
    {
      "cell_type": "markdown",
      "source": [
        "IDENTIFICANDO A COLUNA DE PREVISÃO DE MANEIRA DINAMICA"
      ],
      "metadata": {
        "id": "i9j0_sUhOsyF"
      }
    },
    {
      "cell_type": "code",
      "source": [
        "prediction_column = predictions.columns[predictions.columns.str.contains('Label', case=False)].tolist()\n",
        "if not prediction_column:\n",
        "    raise ValueError(\"Nenhuma coluna de previsão encontrada. Verifique a estrutura da saída do PyCaret.\")\n",
        "else:\n",
        "    prediction_column = prediction_column[0]"
      ],
      "metadata": {
        "id": "EtXbWQWIOs5l"
      },
      "execution_count": 24,
      "outputs": []
    },
    {
      "cell_type": "markdown",
      "source": [
        "AVALIANDO A PREVISÃO"
      ],
      "metadata": {
        "id": "9aj7zgToPZgt"
      }
    },
    {
      "cell_type": "code",
      "source": [
        "rf_accuracy_pycaret = accuracy_score(y_test, predictions[prediction_column])\n",
        "print(f\"Melhor Modelo (PyCaret) Accuracy: {rf_accuracy_pycaret:.2f}\")\n",
        "print(\"Melhor Modelo (PyCaret) Classification Report:\")\n",
        "print(classification_report(y_test, predictions[prediction_column]))\n"
      ],
      "metadata": {
        "colab": {
          "base_uri": "https://localhost:8080/"
        },
        "id": "1b0RwytePZnO",
        "outputId": "65c88ae4-c9c9-4d15-eff1-143c9be999f3"
      },
      "execution_count": 25,
      "outputs": [
        {
          "output_type": "stream",
          "name": "stdout",
          "text": [
            "Melhor Modelo (PyCaret) Accuracy: 0.87\n",
            "Melhor Modelo (PyCaret) Classification Report:\n",
            "              precision    recall  f1-score   support\n",
            "\n",
            "          CT       0.86      0.87      0.86     15053\n",
            "           T       0.87      0.86      0.87     15550\n",
            "\n",
            "    accuracy                           0.87     30603\n",
            "   macro avg       0.87      0.87      0.87     30603\n",
            "weighted avg       0.87      0.87      0.87     30603\n",
            "\n"
          ]
        }
      ]
    },
    {
      "cell_type": "markdown",
      "source": [
        "CRIANDO PIPELINE"
      ],
      "metadata": {
        "id": "z2aHZ-nYPZsi"
      }
    },
    {
      "cell_type": "code",
      "source": [
        "pipeline = Pipeline(steps=[\n",
        "    ('preprocessor', preprocessor),\n",
        "    ('classifier', best_model)\n",
        "])\n"
      ],
      "metadata": {
        "id": "WNr-LH-2PZyH"
      },
      "execution_count": 26,
      "outputs": []
    },
    {
      "cell_type": "markdown",
      "source": [
        "TREINANDO PIPELINE NO CONJUNTO DE TREINO"
      ],
      "metadata": {
        "id": "2h7OiklGPZ3N"
      }
    },
    {
      "cell_type": "code",
      "source": [
        "pipeline.fit(X_train, y_train)"
      ],
      "metadata": {
        "colab": {
          "base_uri": "https://localhost:8080/",
          "height": 227
        },
        "id": "zZq_q8YZPZ80",
        "outputId": "ba43db03-cb69-46cd-a03f-e84e13a8d3a5"
      },
      "execution_count": 27,
      "outputs": [
        {
          "output_type": "execute_result",
          "data": {
            "text/plain": [
              "Pipeline(memory=None,\n",
              "         steps=[('preprocessor',\n",
              "                 ColumnTransformer(n_jobs=None, remainder='drop',\n",
              "                                   sparse_threshold=0.3,\n",
              "                                   transformer_weights=None,\n",
              "                                   transformers=[('num',\n",
              "                                                  Pipeline(memory=None,\n",
              "                                                           steps=[('imputer',\n",
              "                                                                   SimpleImputer(add_indicator=False,\n",
              "                                                                                 copy=True,\n",
              "                                                                                 fill_value=None,\n",
              "                                                                                 keep_empty_features=False,\n",
              "                                                                                 missing_values=nan,\n",
              "                                                                                 strategy='mean',\n",
              "                                                                                 verbose='deprecated')),\n",
              "                                                                  ('scaler'...\n",
              "                 ExtraTreesClassifier(bootstrap=False, ccp_alpha=0.0,\n",
              "                                      class_weight=None, criterion='gini',\n",
              "                                      max_depth=None, max_features='sqrt',\n",
              "                                      max_leaf_nodes=None, max_samples=None,\n",
              "                                      min_impurity_decrease=0.0,\n",
              "                                      min_samples_leaf=1, min_samples_split=2,\n",
              "                                      min_weight_fraction_leaf=0.0,\n",
              "                                      n_estimators=100, n_jobs=-1,\n",
              "                                      oob_score=False, random_state=42,\n",
              "                                      verbose=0, warm_start=False))],\n",
              "         verbose=False)"
            ],
            "text/html": [
              "<style>#sk-container-id-1 {color: black;background-color: white;}#sk-container-id-1 pre{padding: 0;}#sk-container-id-1 div.sk-toggleable {background-color: white;}#sk-container-id-1 label.sk-toggleable__label {cursor: pointer;display: block;width: 100%;margin-bottom: 0;padding: 0.3em;box-sizing: border-box;text-align: center;}#sk-container-id-1 label.sk-toggleable__label-arrow:before {content: \"▸\";float: left;margin-right: 0.25em;color: #696969;}#sk-container-id-1 label.sk-toggleable__label-arrow:hover:before {color: black;}#sk-container-id-1 div.sk-estimator:hover label.sk-toggleable__label-arrow:before {color: black;}#sk-container-id-1 div.sk-toggleable__content {max-height: 0;max-width: 0;overflow: hidden;text-align: left;background-color: #f0f8ff;}#sk-container-id-1 div.sk-toggleable__content pre {margin: 0.2em;color: black;border-radius: 0.25em;background-color: #f0f8ff;}#sk-container-id-1 input.sk-toggleable__control:checked~div.sk-toggleable__content {max-height: 200px;max-width: 100%;overflow: auto;}#sk-container-id-1 input.sk-toggleable__control:checked~label.sk-toggleable__label-arrow:before {content: \"▾\";}#sk-container-id-1 div.sk-estimator input.sk-toggleable__control:checked~label.sk-toggleable__label {background-color: #d4ebff;}#sk-container-id-1 div.sk-label input.sk-toggleable__control:checked~label.sk-toggleable__label {background-color: #d4ebff;}#sk-container-id-1 input.sk-hidden--visually {border: 0;clip: rect(1px 1px 1px 1px);clip: rect(1px, 1px, 1px, 1px);height: 1px;margin: -1px;overflow: hidden;padding: 0;position: absolute;width: 1px;}#sk-container-id-1 div.sk-estimator {font-family: monospace;background-color: #f0f8ff;border: 1px dotted black;border-radius: 0.25em;box-sizing: border-box;margin-bottom: 0.5em;}#sk-container-id-1 div.sk-estimator:hover {background-color: #d4ebff;}#sk-container-id-1 div.sk-parallel-item::after {content: \"\";width: 100%;border-bottom: 1px solid gray;flex-grow: 1;}#sk-container-id-1 div.sk-label:hover label.sk-toggleable__label {background-color: #d4ebff;}#sk-container-id-1 div.sk-serial::before {content: \"\";position: absolute;border-left: 1px solid gray;box-sizing: border-box;top: 0;bottom: 0;left: 50%;z-index: 0;}#sk-container-id-1 div.sk-serial {display: flex;flex-direction: column;align-items: center;background-color: white;padding-right: 0.2em;padding-left: 0.2em;position: relative;}#sk-container-id-1 div.sk-item {position: relative;z-index: 1;}#sk-container-id-1 div.sk-parallel {display: flex;align-items: stretch;justify-content: center;background-color: white;position: relative;}#sk-container-id-1 div.sk-item::before, #sk-container-id-1 div.sk-parallel-item::before {content: \"\";position: absolute;border-left: 1px solid gray;box-sizing: border-box;top: 0;bottom: 0;left: 50%;z-index: -1;}#sk-container-id-1 div.sk-parallel-item {display: flex;flex-direction: column;z-index: 1;position: relative;background-color: white;}#sk-container-id-1 div.sk-parallel-item:first-child::after {align-self: flex-end;width: 50%;}#sk-container-id-1 div.sk-parallel-item:last-child::after {align-self: flex-start;width: 50%;}#sk-container-id-1 div.sk-parallel-item:only-child::after {width: 0;}#sk-container-id-1 div.sk-dashed-wrapped {border: 1px dashed gray;margin: 0 0.4em 0.5em 0.4em;box-sizing: border-box;padding-bottom: 0.4em;background-color: white;}#sk-container-id-1 div.sk-label label {font-family: monospace;font-weight: bold;display: inline-block;line-height: 1.2em;}#sk-container-id-1 div.sk-label-container {text-align: center;}#sk-container-id-1 div.sk-container {/* jupyter's `normalize.less` sets `[hidden] { display: none; }` but bootstrap.min.css set `[hidden] { display: none !important; }` so we also need the `!important` here to be able to override the default hidden behavior on the sphinx rendered scikit-learn.org. See: https://github.com/scikit-learn/scikit-learn/issues/21755 */display: inline-block !important;position: relative;}#sk-container-id-1 div.sk-text-repr-fallback {display: none;}</style><div id=\"sk-container-id-1\" class=\"sk-top-container\"><div class=\"sk-text-repr-fallback\"><pre>Pipeline(memory=None,\n",
              "         steps=[(&#x27;preprocessor&#x27;,\n",
              "                 ColumnTransformer(n_jobs=None, remainder=&#x27;drop&#x27;,\n",
              "                                   sparse_threshold=0.3,\n",
              "                                   transformer_weights=None,\n",
              "                                   transformers=[(&#x27;num&#x27;,\n",
              "                                                  Pipeline(memory=None,\n",
              "                                                           steps=[(&#x27;imputer&#x27;,\n",
              "                                                                   SimpleImputer(add_indicator=False,\n",
              "                                                                                 copy=True,\n",
              "                                                                                 fill_value=None,\n",
              "                                                                                 keep_empty_features=False,\n",
              "                                                                                 missing_values=nan,\n",
              "                                                                                 strategy=&#x27;mean&#x27;,\n",
              "                                                                                 verbose=&#x27;deprecated&#x27;)),\n",
              "                                                                  (&#x27;scaler&#x27;...\n",
              "                 ExtraTreesClassifier(bootstrap=False, ccp_alpha=0.0,\n",
              "                                      class_weight=None, criterion=&#x27;gini&#x27;,\n",
              "                                      max_depth=None, max_features=&#x27;sqrt&#x27;,\n",
              "                                      max_leaf_nodes=None, max_samples=None,\n",
              "                                      min_impurity_decrease=0.0,\n",
              "                                      min_samples_leaf=1, min_samples_split=2,\n",
              "                                      min_weight_fraction_leaf=0.0,\n",
              "                                      n_estimators=100, n_jobs=-1,\n",
              "                                      oob_score=False, random_state=42,\n",
              "                                      verbose=0, warm_start=False))],\n",
              "         verbose=False)</pre><b>In a Jupyter environment, please rerun this cell to show the HTML representation or trust the notebook. <br />On GitHub, the HTML representation is unable to render, please try loading this page with nbviewer.org.</b></div><div class=\"sk-container\" hidden><div class=\"sk-item sk-dashed-wrapped\"><div class=\"sk-label-container\"><div class=\"sk-label sk-toggleable\"><input class=\"sk-toggleable__control sk-hidden--visually\" id=\"sk-estimator-id-1\" type=\"checkbox\" ><label for=\"sk-estimator-id-1\" class=\"sk-toggleable__label sk-toggleable__label-arrow\">Pipeline</label><div class=\"sk-toggleable__content\"><pre>Pipeline(memory=None,\n",
              "         steps=[(&#x27;preprocessor&#x27;,\n",
              "                 ColumnTransformer(n_jobs=None, remainder=&#x27;drop&#x27;,\n",
              "                                   sparse_threshold=0.3,\n",
              "                                   transformer_weights=None,\n",
              "                                   transformers=[(&#x27;num&#x27;,\n",
              "                                                  Pipeline(memory=None,\n",
              "                                                           steps=[(&#x27;imputer&#x27;,\n",
              "                                                                   SimpleImputer(add_indicator=False,\n",
              "                                                                                 copy=True,\n",
              "                                                                                 fill_value=None,\n",
              "                                                                                 keep_empty_features=False,\n",
              "                                                                                 missing_values=nan,\n",
              "                                                                                 strategy=&#x27;mean&#x27;,\n",
              "                                                                                 verbose=&#x27;deprecated&#x27;)),\n",
              "                                                                  (&#x27;scaler&#x27;...\n",
              "                 ExtraTreesClassifier(bootstrap=False, ccp_alpha=0.0,\n",
              "                                      class_weight=None, criterion=&#x27;gini&#x27;,\n",
              "                                      max_depth=None, max_features=&#x27;sqrt&#x27;,\n",
              "                                      max_leaf_nodes=None, max_samples=None,\n",
              "                                      min_impurity_decrease=0.0,\n",
              "                                      min_samples_leaf=1, min_samples_split=2,\n",
              "                                      min_weight_fraction_leaf=0.0,\n",
              "                                      n_estimators=100, n_jobs=-1,\n",
              "                                      oob_score=False, random_state=42,\n",
              "                                      verbose=0, warm_start=False))],\n",
              "         verbose=False)</pre></div></div></div><div class=\"sk-serial\"><div class=\"sk-item sk-dashed-wrapped\"><div class=\"sk-label-container\"><div class=\"sk-label sk-toggleable\"><input class=\"sk-toggleable__control sk-hidden--visually\" id=\"sk-estimator-id-2\" type=\"checkbox\" ><label for=\"sk-estimator-id-2\" class=\"sk-toggleable__label sk-toggleable__label-arrow\">preprocessor: ColumnTransformer</label><div class=\"sk-toggleable__content\"><pre>ColumnTransformer(n_jobs=None, remainder=&#x27;drop&#x27;, sparse_threshold=0.3,\n",
              "                  transformer_weights=None,\n",
              "                  transformers=[(&#x27;num&#x27;,\n",
              "                                 Pipeline(memory=None,\n",
              "                                          steps=[(&#x27;imputer&#x27;,\n",
              "                                                  SimpleImputer(add_indicator=False,\n",
              "                                                                copy=True,\n",
              "                                                                fill_value=None,\n",
              "                                                                keep_empty_features=False,\n",
              "                                                                missing_values=nan,\n",
              "                                                                strategy=&#x27;mean&#x27;,\n",
              "                                                                verbose=&#x27;deprecated&#x27;)),\n",
              "                                                 (&#x27;scaler&#x27;,\n",
              "                                                  StandardScaler(copy=True,\n",
              "                                                                 with_mean=True,\n",
              "                                                                 wit...\n",
              "                                                                keep_empty_features=False,\n",
              "                                                                missing_values=nan,\n",
              "                                                                strategy=&#x27;most_frequent&#x27;,\n",
              "                                                                verbose=&#x27;deprecated&#x27;)),\n",
              "                                                 (&#x27;onehot&#x27;,\n",
              "                                                  OneHotEncoder(categories=&#x27;auto&#x27;,\n",
              "                                                                drop=None,\n",
              "                                                                dtype=&lt;class &#x27;numpy.float64&#x27;&gt;,\n",
              "                                                                handle_unknown=&#x27;error&#x27;,\n",
              "                                                                max_categories=None,\n",
              "                                                                min_frequency=None,\n",
              "                                                                sparse=&#x27;deprecated&#x27;,\n",
              "                                                                sparse_output=True))],\n",
              "                                          verbose=False),\n",
              "                                 Index([], dtype=&#x27;object&#x27;))],\n",
              "                  verbose=False, verbose_feature_names_out=True)</pre></div></div></div><div class=\"sk-parallel\"><div class=\"sk-parallel-item\"><div class=\"sk-item\"><div class=\"sk-label-container\"><div class=\"sk-label sk-toggleable\"><input class=\"sk-toggleable__control sk-hidden--visually\" id=\"sk-estimator-id-3\" type=\"checkbox\" ><label for=\"sk-estimator-id-3\" class=\"sk-toggleable__label sk-toggleable__label-arrow\">num</label><div class=\"sk-toggleable__content\"><pre>Index([&#x27;time_left&#x27;, &#x27;ct_score&#x27;, &#x27;t_score&#x27;, &#x27;ct_health&#x27;, &#x27;t_health&#x27;, &#x27;ct_money&#x27;,\n",
              "       &#x27;t_money&#x27;, &#x27;ct_helmets&#x27;, &#x27;t_helmets&#x27;, &#x27;ct_defuse_kits&#x27;,\n",
              "       &#x27;ct_players_alive&#x27;, &#x27;t_players_alive&#x27;, &#x27;ct_weapon_ak47&#x27;,\n",
              "       &#x27;t_weapon_ak47&#x27;, &#x27;ct_weapon_aug&#x27;, &#x27;t_weapon_aug&#x27;, &#x27;ct_weapon_awp&#x27;,\n",
              "       &#x27;t_weapon_awp&#x27;, &#x27;ct_weapon_bizon&#x27;, &#x27;t_weapon_bizon&#x27;,\n",
              "       &#x27;ct_weapon_cz75auto&#x27;, &#x27;t_weapon_cz75auto&#x27;, &#x27;ct_weapon_elite&#x27;,\n",
              "       &#x27;t_weapon_elite&#x27;, &#x27;ct_weapon_famas&#x27;, &#x27;t_weapon_famas&#x27;,\n",
              "       &#x27;ct_weapon_g3sg1&#x27;, &#x27;t_weapon_g3sg1&#x27;, &#x27;ct_weapon_galilar&#x27;,\n",
              "       &#x27;t_weapon_galilar&#x27;, &#x27;ct_weapon_glock&#x27;, &#x27;t_weapon_glock&#x27;,\n",
              "       &#x27;ct_weapon_m249&#x27;, &#x27;t_weapon_m249&#x27;, &#x27;ct_weapon_m4a1s&#x27;, &#x27;t_weapon_m4a1s&#x27;,\n",
              "       &#x27;ct_weapon_m4a4&#x27;, &#x27;t_weapon_m4a4&#x27;, &#x27;ct_weapon_mac10&#x27;, &#x27;t_weapon_mac10&#x27;,\n",
              "       &#x27;ct_weapon_mag7&#x27;, &#x27;t_weapon_mag7&#x27;, &#x27;ct_weapon_mp5sd&#x27;, &#x27;t_weapon_mp5sd&#x27;,\n",
              "       &#x27;ct_weapon_mp7&#x27;, &#x27;t_weapon_mp7&#x27;, &#x27;ct_weapon_mp9&#x27;, &#x27;t_weapon_mp9&#x27;,\n",
              "       &#x27;ct_weapon_negev&#x27;, &#x27;t_weapon_negev&#x27;, &#x27;ct_weapon_nova&#x27;, &#x27;t_weapon_nova&#x27;,\n",
              "       &#x27;ct_weapon_p90&#x27;, &#x27;t_weapon_p90&#x27;, &#x27;ct_weapon_r8revolver&#x27;,\n",
              "       &#x27;t_weapon_r8revolver&#x27;, &#x27;ct_weapon_sawedoff&#x27;, &#x27;t_weapon_sawedoff&#x27;,\n",
              "       &#x27;ct_weapon_scar20&#x27;, &#x27;t_weapon_scar20&#x27;, &#x27;ct_weapon_sg553&#x27;,\n",
              "       &#x27;t_weapon_sg553&#x27;, &#x27;ct_weapon_ssg08&#x27;, &#x27;t_weapon_ssg08&#x27;,\n",
              "       &#x27;ct_weapon_ump45&#x27;, &#x27;t_weapon_ump45&#x27;, &#x27;ct_weapon_xm1014&#x27;,\n",
              "       &#x27;t_weapon_xm1014&#x27;, &#x27;ct_weapon_deagle&#x27;, &#x27;t_weapon_deagle&#x27;,\n",
              "       &#x27;ct_weapon_fiveseven&#x27;, &#x27;t_weapon_fiveseven&#x27;, &#x27;ct_weapon_usps&#x27;,\n",
              "       &#x27;t_weapon_usps&#x27;, &#x27;ct_weapon_p250&#x27;, &#x27;t_weapon_p250&#x27;, &#x27;ct_weapon_p2000&#x27;,\n",
              "       &#x27;t_weapon_p2000&#x27;, &#x27;ct_weapon_tec9&#x27;, &#x27;t_weapon_tec9&#x27;,\n",
              "       &#x27;ct_grenade_hegrenade&#x27;, &#x27;t_grenade_hegrenade&#x27;, &#x27;ct_grenade_flashbang&#x27;,\n",
              "       &#x27;t_grenade_flashbang&#x27;, &#x27;ct_grenade_smokegrenade&#x27;,\n",
              "       &#x27;t_grenade_smokegrenade&#x27;, &#x27;ct_grenade_incendiarygrenade&#x27;,\n",
              "       &#x27;t_grenade_incendiarygrenade&#x27;, &#x27;ct_grenade_molotovgrenade&#x27;,\n",
              "       &#x27;t_grenade_molotovgrenade&#x27;, &#x27;ct_grenade_decoygrenade&#x27;,\n",
              "       &#x27;t_grenade_decoygrenade&#x27;],\n",
              "      dtype=&#x27;object&#x27;)</pre></div></div></div><div class=\"sk-serial\"><div class=\"sk-item\"><div class=\"sk-serial\"><div class=\"sk-item\"><div class=\"sk-estimator sk-toggleable\"><input class=\"sk-toggleable__control sk-hidden--visually\" id=\"sk-estimator-id-4\" type=\"checkbox\" ><label for=\"sk-estimator-id-4\" class=\"sk-toggleable__label sk-toggleable__label-arrow\">SimpleImputer</label><div class=\"sk-toggleable__content\"><pre>SimpleImputer()</pre></div></div></div><div class=\"sk-item\"><div class=\"sk-estimator sk-toggleable\"><input class=\"sk-toggleable__control sk-hidden--visually\" id=\"sk-estimator-id-5\" type=\"checkbox\" ><label for=\"sk-estimator-id-5\" class=\"sk-toggleable__label sk-toggleable__label-arrow\">StandardScaler</label><div class=\"sk-toggleable__content\"><pre>StandardScaler()</pre></div></div></div></div></div></div></div></div><div class=\"sk-parallel-item\"><div class=\"sk-item\"><div class=\"sk-label-container\"><div class=\"sk-label sk-toggleable\"><input class=\"sk-toggleable__control sk-hidden--visually\" id=\"sk-estimator-id-6\" type=\"checkbox\" ><label for=\"sk-estimator-id-6\" class=\"sk-toggleable__label sk-toggleable__label-arrow\">cat</label><div class=\"sk-toggleable__content\"><pre>Index([], dtype=&#x27;object&#x27;)</pre></div></div></div><div class=\"sk-serial\"><div class=\"sk-item\"><div class=\"sk-serial\"><div class=\"sk-item\"><div class=\"sk-estimator sk-toggleable\"><input class=\"sk-toggleable__control sk-hidden--visually\" id=\"sk-estimator-id-7\" type=\"checkbox\" ><label for=\"sk-estimator-id-7\" class=\"sk-toggleable__label sk-toggleable__label-arrow\">SimpleImputer</label><div class=\"sk-toggleable__content\"><pre>SimpleImputer(strategy=&#x27;most_frequent&#x27;)</pre></div></div></div><div class=\"sk-item\"><div class=\"sk-estimator sk-toggleable\"><input class=\"sk-toggleable__control sk-hidden--visually\" id=\"sk-estimator-id-8\" type=\"checkbox\" ><label for=\"sk-estimator-id-8\" class=\"sk-toggleable__label sk-toggleable__label-arrow\">OneHotEncoder</label><div class=\"sk-toggleable__content\"><pre>OneHotEncoder()</pre></div></div></div></div></div></div></div></div></div></div><div class=\"sk-item\"><div class=\"sk-estimator sk-toggleable\"><input class=\"sk-toggleable__control sk-hidden--visually\" id=\"sk-estimator-id-9\" type=\"checkbox\" ><label for=\"sk-estimator-id-9\" class=\"sk-toggleable__label sk-toggleable__label-arrow\">ExtraTreesClassifier</label><div class=\"sk-toggleable__content\"><pre>ExtraTreesClassifier(n_jobs=-1, random_state=42)</pre></div></div></div></div></div></div></div>"
            ]
          },
          "metadata": {},
          "execution_count": 27
        }
      ]
    },
    {
      "cell_type": "markdown",
      "source": [
        "FAZENDO PREVISÕES NO CONJUNTO DE TESTES"
      ],
      "metadata": {
        "id": "51aoHiZ_PasH"
      }
    },
    {
      "cell_type": "code",
      "source": [
        "predictions_pipeline = pipeline.predict(X_test)"
      ],
      "metadata": {
        "id": "AfkoS0L7PayY"
      },
      "execution_count": 28,
      "outputs": []
    },
    {
      "cell_type": "markdown",
      "source": [
        "MOSTRANDO PREVISÕES"
      ],
      "metadata": {
        "id": "pbRIILLZPa4H"
      }
    },
    {
      "cell_type": "code",
      "source": [
        "print(\"Predições do Pipeline:\")\n",
        "print(predictions_pipeline)"
      ],
      "metadata": {
        "colab": {
          "base_uri": "https://localhost:8080/"
        },
        "id": "CEqYfGToPa9y",
        "outputId": "e10793a9-5bbb-4ab2-e768-11925ce5e9da"
      },
      "execution_count": 29,
      "outputs": [
        {
          "output_type": "stream",
          "name": "stdout",
          "text": [
            "Predições do Pipeline:\n",
            "['CT' 'T' 'CT' ... 'CT' 'T' 'T']\n"
          ]
        }
      ]
    },
    {
      "cell_type": "markdown",
      "source": [
        "CALCULANDO E EXIBINDO MÉTRICAS"
      ],
      "metadata": {
        "id": "rmy3CaooPbD4"
      }
    },
    {
      "cell_type": "code",
      "source": [
        "from sklearn.metrics import accuracy_score, classification_report\n",
        "\n",
        "# Calcular e exibir métricas\n",
        "accuracy = accuracy_score(y_test, predictions_pipeline)\n",
        "classification_report_result = classification_report(y_test, predictions_pipeline)\n",
        "\n",
        "print(f\"Acurácia: {accuracy:.2f}\")\n",
        "print(\"Relatório de Classificação:\")\n",
        "print(classification_report_result)"
      ],
      "metadata": {
        "colab": {
          "base_uri": "https://localhost:8080/"
        },
        "id": "SrdgTZacPbK9",
        "outputId": "cdd61b05-73db-495b-a5b0-f482ec72e229"
      },
      "execution_count": 30,
      "outputs": [
        {
          "output_type": "stream",
          "name": "stdout",
          "text": [
            "Acurácia: 0.88\n",
            "Relatório de Classificação:\n",
            "              precision    recall  f1-score   support\n",
            "\n",
            "          CT       0.87      0.88      0.88     15053\n",
            "           T       0.88      0.87      0.88     15550\n",
            "\n",
            "    accuracy                           0.88     30603\n",
            "   macro avg       0.88      0.88      0.88     30603\n",
            "weighted avg       0.88      0.88      0.88     30603\n",
            "\n"
          ]
        }
      ]
    }
  ]
}